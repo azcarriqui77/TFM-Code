{
 "cells": [
  {
   "cell_type": "markdown",
   "metadata": {},
   "source": [
    "# Entrenamiento de una red SkinLesNet para clasificación de imágenes de lesiones de piel\n",
    "\n",
    "En este Notebook se muestra cómo definir y entrenar una red [SkinLesNet](https://github.com/azeemchaudhary/SkinLesNet-Model/blob/main/SkinLesNet_Project.ipynb) para clasificación de imágenes de lesiones de piel en dos clases: maligno (1) y benigno (0). Se usa el conjunto de datos de ISIC 2018, 2019 y 2020 descargados desde el siguiente enlace de [Kaggle](https://www.kaggle.com/competitions/isic-2024-challenge/discussion/515356)."
   ]
  },
  {
   "cell_type": "markdown",
   "metadata": {},
   "source": [
    "## Importación de librerías"
   ]
  },
  {
   "cell_type": "code",
   "execution_count": 1,
   "metadata": {},
   "outputs": [],
   "source": [
    "import os\n",
    "import random\n",
    "\n",
    "import numpy as np\n",
    "import pandas as pd\n",
    "import matplotlib.pyplot as plt\n",
    "\n",
    "import torch\n",
    "import torch.nn as nn\n",
    "import torch.nn.functional as F\n",
    "from torch.utils.data import DataLoader\n",
    "import torch.optim.lr_scheduler as lr_scheduler\n",
    "import torch.optim as optim\n",
    "from torchvision.transforms import v2\n",
    "\n",
    "from tqdm import tqdm\n",
    "\n",
    "from sklearn.metrics import accuracy_score, precision_score, recall_score, f1_score, confusion_matrix"
   ]
  },
  {
   "cell_type": "markdown",
   "metadata": {},
   "source": [
    "## Parámetros"
   ]
  },
  {
   "cell_type": "code",
   "execution_count": 2,
   "metadata": {},
   "outputs": [],
   "source": [
    "IMAGE_SIZE = 64\n",
    "BATCH_SIZE = 32\n",
    "EPOCHS = 50\n",
    "DEVICE = torch.device(\"mps\")"
   ]
  },
  {
   "cell_type": "markdown",
   "metadata": {},
   "source": [
    "## Carga de las imágenes de entrenamiento y de validación\n",
    "\n",
    "Cargamos las imágenes de entrenamiento  y las guardamos en una lista, cada una de ellas dentro de un diccionario junto con su respectiva etiqueta. Además, transformamos las imágenes para que tengan un tamaño de 64 píxeles y normalizamos sus valores. El conjunto de validación y de test serán particiones del de entrenamiento. Caragmos tantas imágenes de una clase como de la otra para que no haya problemas de desbalanceo."
   ]
  },
  {
   "cell_type": "code",
   "execution_count": 3,
   "metadata": {},
   "outputs": [],
   "source": [
    "transformations = v2.Compose([\n",
    "    v2.Resize((IMAGE_SIZE, IMAGE_SIZE))\n",
    "])"
   ]
  },
  {
   "cell_type": "code",
   "execution_count": 4,
   "metadata": {},
   "outputs": [],
   "source": [
    "DATA_DIR = '/Users/alzorrcarri/skin_lesion_training_images'\n",
    "\n",
    "dataset = []\n",
    "name_files = os.listdir(DATA_DIR)\n",
    "\n",
    "for file in name_files:\n",
    "    if file.endswith('.jpg'):\n",
    "        image = os.path.join(DATA_DIR, file)\n",
    "        image = torch.tensor(plt.imread(image), dtype=torch.float32)\n",
    "        image = torch.transpose(image, 0, 2)\n",
    "        dataset.append({'image': image/255.0, 'label': 1})"
   ]
  },
  {
   "cell_type": "code",
   "execution_count": 5,
   "metadata": {},
   "outputs": [
    {
     "name": "stdout",
     "output_type": "stream",
     "text": [
      "5768\n"
     ]
    }
   ],
   "source": [
    "malignant = len(name_files)\n",
    "print(malignant)"
   ]
  },
  {
   "cell_type": "code",
   "execution_count": 6,
   "metadata": {},
   "outputs": [
    {
     "data": {
      "text/plain": [
       "5768"
      ]
     },
     "execution_count": 6,
     "metadata": {},
     "output_type": "execute_result"
    }
   ],
   "source": [
    "len(dataset)"
   ]
  },
  {
   "cell_type": "code",
   "execution_count": 7,
   "metadata": {},
   "outputs": [],
   "source": [
    "METADATA_FILE = '/Users/alzorrcarri/ISIC2018 Challenge/train-metadata.csv'\n",
    "DATA_DIR = '/Users/alzorrcarri/ISIC2018 Challenge/train-image/image'\n",
    "metadata = pd.read_csv(METADATA_FILE, header=0)\n",
    "\n",
    "bening = 0\n",
    "idx = 0\n",
    "while bening <= malignant and idx < len(metadata):\n",
    "    _, isic_id, patient_id, label = metadata.iloc[idx,]\n",
    "    if label == 0.0:\n",
    "        # Cargamos la imagen de la lesión si existe\n",
    "        image = os.path.join(DATA_DIR, isic_id + '.jpg')\n",
    "        if not os.path.exists(image):\n",
    "            idx += 1\n",
    "            continue\n",
    "        image = torch.tensor(plt.imread(image), dtype=torch.float32)\n",
    "        # Hacemos el resto de transformaciones necesarias\n",
    "        image = torch.transpose(image, 0, 2)\n",
    "        image = transformations(image)/255.0\n",
    "        dataset.append({'image': image, 'label': 0})\n",
    "        bening += 1\n",
    "    idx += 1"
   ]
  },
  {
   "cell_type": "code",
   "execution_count": 8,
   "metadata": {},
   "outputs": [
    {
     "name": "stdout",
     "output_type": "stream",
     "text": [
      "[49.99566611770824, 50.00433388229176]\n"
     ]
    }
   ],
   "source": [
    "print([malignant*100.0/(malignant+bening), bening*100.0/(malignant+bening)])"
   ]
  },
  {
   "cell_type": "code",
   "execution_count": 9,
   "metadata": {},
   "outputs": [
    {
     "data": {
      "text/plain": [
       "11537"
      ]
     },
     "execution_count": 9,
     "metadata": {},
     "output_type": "execute_result"
    }
   ],
   "source": [
    "len(dataset)"
   ]
  },
  {
   "cell_type": "code",
   "execution_count": 10,
   "metadata": {},
   "outputs": [
    {
     "data": {
      "text/plain": [
       "<matplotlib.image.AxesImage at 0x3109b7e30>"
      ]
     },
     "execution_count": 10,
     "metadata": {},
     "output_type": "execute_result"
    },
    {
     "data": {
      "image/png": "[encoded data removed]",
      "text/plain": [
       "<Figure size 640x480 with 1 Axes>"
      ]
     },
     "metadata": {},
     "output_type": "display_data"
    }
   ],
   "source": [
    "plt.imshow(dataset[0]['image'].permute(1, 2, 0))"
   ]
  },
  {
   "cell_type": "code",
   "execution_count": 11,
   "metadata": {},
   "outputs": [],
   "source": [
    "for data in dataset:\n",
    "    assert data['image'].shape == (3, IMAGE_SIZE, IMAGE_SIZE), f\"Unexpected image shape in: {data['image'].shape}\"\n",
    "    assert data['label'] in [0, 1], f\"Unexpected label value: {data['label']}\""
   ]
  },
  {
   "cell_type": "code",
   "execution_count": 12,
   "metadata": {},
   "outputs": [],
   "source": [
    "random.shuffle(dataset)"
   ]
  },
  {
   "cell_type": "code",
   "execution_count": 13,
   "metadata": {},
   "outputs": [],
   "source": [
    "train_loader = DataLoader(dataset[0:int(0.8*len(dataset))], batch_size = BATCH_SIZE, shuffle = True)\n",
    "val_loader = DataLoader(dataset[int(0.8*len(dataset)):int(0.9*len(dataset))], batch_size = BATCH_SIZE, shuffle = True)\n",
    "test_loader = DataLoader(dataset[int(0.9*len(dataset)):], batch_size = BATCH_SIZE, shuffle = True)"
   ]
  },
  {
   "cell_type": "code",
   "execution_count": 14,
   "metadata": {},
   "outputs": [
    {
     "name": "stdout",
     "output_type": "stream",
     "text": [
      "289 37 37\n"
     ]
    }
   ],
   "source": [
    "print(len(train_loader), len(val_loader), len(test_loader))"
   ]
  },
  {
   "cell_type": "code",
   "execution_count": 15,
   "metadata": {},
   "outputs": [
    {
     "data": {
      "text/plain": [
       "<matplotlib.image.AxesImage at 0x3112d4f50>"
      ]
     },
     "execution_count": 15,
     "metadata": {},
     "output_type": "execute_result"
    },
    {
     "data": {
      "image/png": "[encoded data removed]",
      "text/plain": [
       "<Figure size 640x480 with 1 Axes>"
      ]
     },
     "metadata": {},
     "output_type": "display_data"
    }
   ],
   "source": [
    "plt.imshow(train_loader.dataset.__getitem__(2)['image'].permute(2,1,0))"
   ]
  },
  {
   "cell_type": "markdown",
   "metadata": {},
   "source": [
    "## Definición y entrenamiento de la red SkinLesNet\n",
    "\n",
    "Definimos la clase que representa la red SkinLesNet y la entrenamos con las imágenes de entrenamiento. Para ello, usamos el optimizador Adam y la función de pérdida de entropía cruzada binaria, con pesos según la clase, ya que es un problema desbalanceado. La tasa de aprendizaje toma un valor inicial de 0.001, que irá disminuyendo en un facttor de 0.5 según el valor de la función de pérdida durante el entrenamiento, para que haya una mejor aproximación al valor óptimo de los parámetros de la red."
   ]
  },
  {
   "cell_type": "code",
   "execution_count": 16,
   "metadata": {},
   "outputs": [],
   "source": [
    "class SkinLesNet(nn.Module):\n",
    "    def __init__(self, IMAGE_SIZE):\n",
    "        super(SkinLesNet, self).__init__()\n",
    "        # 1st Convolutional Input Layer\n",
    "        self.conv1 = nn.Conv2d(in_channels=3, out_channels=32, kernel_size=3, padding=1)\n",
    "        self.pool = nn.MaxPool2d(kernel_size=2, stride=2)\n",
    "        \n",
    "        # 2nd Convolutional Input Layer\n",
    "        self.conv2 = nn.Conv2d(in_channels=32, out_channels=64, kernel_size=3, padding=1)\n",
    "        \n",
    "        # 3rd Convolutional Layer\n",
    "        self.conv3 = nn.Conv2d(in_channels=64, out_channels=64, kernel_size=3, padding=1)\n",
    "        \n",
    "        # 4th Convolutional Layer\n",
    "        self.conv4 = nn.Conv2d(in_channels=64, out_channels=128, kernel_size=3, padding=1)\n",
    "        \n",
    "        self.dropout1 = nn.Dropout(0.5)\n",
    "\n",
    "        self.flatten = nn.Flatten()\n",
    "        \n",
    "        # Fully connected layers\n",
    "        self.fc1 = nn.Linear(128 * (IMAGE_SIZE // 16) * (IMAGE_SIZE // 16), 64)  # Adjusting for downsampling\n",
    "        self.dropout2 = nn.Dropout(0.3)\n",
    "        self.fc2 = nn.Linear(64, 2)\n",
    "    \n",
    "    def forward(self, x):\n",
    "        x = F.relu(self.conv1(x))\n",
    "        x = self.pool(x)\n",
    "        \n",
    "        x = F.relu(self.conv2(x))\n",
    "        x = self.pool(x)\n",
    "        \n",
    "        x = F.relu(self.conv3(x))\n",
    "        x = self.pool(x)\n",
    "        \n",
    "        x = F.relu(self.conv4(x))\n",
    "        x = self.pool(x)\n",
    "        \n",
    "        x = self.dropout1(x)\n",
    "        \n",
    "        x = self.flatten(x)\n",
    "        \n",
    "        x = F.relu(self.fc1(x))\n",
    "        x = self.dropout2(x)\n",
    "        x = F.softmax(self.fc2(x), dim=1)\n",
    "        \n",
    "        return x"
   ]
  },
  {
   "cell_type": "code",
   "execution_count": 17,
   "metadata": {},
   "outputs": [
    {
     "name": "stderr",
     "output_type": "stream",
     "text": [
      "/opt/anaconda3/envs/tfm/lib/python3.12/site-packages/torch/optim/lr_scheduler.py:28: UserWarning: The verbose parameter is deprecated. Please use get_last_lr() to access the learning rate.\n",
      "  warnings.warn(\"The verbose parameter is deprecated. Please use get_last_lr() \"\n"
     ]
    }
   ],
   "source": [
    "skinlesnet = SkinLesNet(IMAGE_SIZE).to(DEVICE)\n",
    "\n",
    "optimizer = optim.Adam(skinlesnet.parameters(), lr=0.001)\n",
    "loss = nn.CrossEntropyLoss(weight=torch.tensor([bening/(bening+malignant), malignant/(bening+malignant)])).to(DEVICE)\n",
    "lr_sch = lr_scheduler.ReduceLROnPlateau(optimizer, mode='min', factor=0.5, \n",
    "                                        patience=1, threshold=0.0001, threshold_mode='rel', \n",
    "                                        cooldown=0, min_lr=0, eps=1e-15, verbose=False)"
   ]
  },
  {
   "cell_type": "markdown",
   "metadata": {},
   "source": [
    "Definimos la función `calculate_accuracy` para calcular el accuracy de la red durante el entrenamiento, que lo calcula considerando que las predicciones del modelo de los targets y el conjunto de labels se cargan como tensores durante el entrenamiento."
   ]
  },
  {
   "cell_type": "code",
   "execution_count": 18,
   "metadata": {},
   "outputs": [],
   "source": [
    "def calculate_accuracy(output, target):\n",
    "    _, predicted = torch.max(output, 1)\n",
    "    correct = (predicted == target).sum().item()\n",
    "    return correct / target.size(0)"
   ]
  },
  {
   "cell_type": "markdown",
   "metadata": {},
   "source": [
    "### Entrenamiento"
   ]
  },
  {
   "cell_type": "code",
   "execution_count": 19,
   "metadata": {},
   "outputs": [
    {
     "name": "stderr",
     "output_type": "stream",
     "text": [
      "Epoch 0: 100%|██████████| 289/289 [00:03<00:00, 74.05it/s, accuracy=0.794, loss=0.506]\n",
      "Epoch 1: 100%|██████████| 289/289 [00:03<00:00, 89.87it/s, accuracy=0.905, loss=0.407]\n",
      "Epoch 2: 100%|██████████| 289/289 [00:03<00:00, 89.31it/s, accuracy=0.933, loss=0.378]\n",
      "Epoch 3: 100%|██████████| 289/289 [00:03<00:00, 88.25it/s, accuracy=0.94, loss=0.373] \n",
      "Epoch 4: 100%|██████████| 289/289 [00:03<00:00, 88.55it/s, accuracy=0.949, loss=0.362]\n"
     ]
    },
    {
     "name": "stdout",
     "output_type": "stream",
     "text": [
      "Validation accuracy: 0.9586148648648649\n"
     ]
    },
    {
     "name": "stderr",
     "output_type": "stream",
     "text": [
      "Epoch 5: 100%|██████████| 289/289 [00:03<00:00, 89.33it/s, accuracy=0.961, loss=0.352]\n",
      "Epoch 6: 100%|██████████| 289/289 [00:03<00:00, 88.28it/s, accuracy=0.962, loss=0.35] \n",
      "Epoch 7: 100%|██████████| 289/289 [00:03<00:00, 89.14it/s, accuracy=0.963, loss=0.349]\n",
      "Epoch 8: 100%|██████████| 289/289 [00:03<00:00, 88.99it/s, accuracy=0.966, loss=0.346]\n",
      "Epoch 9: 100%|██████████| 289/289 [00:03<00:00, 90.07it/s, accuracy=0.968, loss=0.344]\n"
     ]
    },
    {
     "name": "stdout",
     "output_type": "stream",
     "text": [
      "Validation accuracy: 0.96875\n"
     ]
    },
    {
     "name": "stderr",
     "output_type": "stream",
     "text": [
      "Epoch 10: 100%|██████████| 289/289 [00:03<00:00, 89.97it/s, accuracy=0.967, loss=0.346]\n",
      "Epoch 11: 100%|██████████| 289/289 [00:03<00:00, 88.37it/s, accuracy=0.967, loss=0.346]\n",
      "Epoch 12: 100%|██████████| 289/289 [00:03<00:00, 90.09it/s, accuracy=0.972, loss=0.34] \n",
      "Epoch 13: 100%|██████████| 289/289 [00:03<00:00, 88.75it/s, accuracy=0.976, loss=0.337]\n",
      "Epoch 14: 100%|██████████| 289/289 [00:03<00:00, 88.00it/s, accuracy=0.975, loss=0.337]\n"
     ]
    },
    {
     "name": "stdout",
     "output_type": "stream",
     "text": [
      "Validation accuracy: 0.9695945945945946\n"
     ]
    },
    {
     "name": "stderr",
     "output_type": "stream",
     "text": [
      "Epoch 15: 100%|██████████| 289/289 [00:03<00:00, 87.69it/s, accuracy=0.974, loss=0.338]\n",
      "Epoch 16: 100%|██████████| 289/289 [00:03<00:00, 90.56it/s, accuracy=0.977, loss=0.335]\n",
      "Epoch 17: 100%|██████████| 289/289 [00:03<00:00, 91.05it/s, accuracy=0.976, loss=0.336]\n",
      "Epoch 18: 100%|██████████| 289/289 [00:03<00:00, 89.93it/s, accuracy=0.977, loss=0.336]\n",
      "Epoch 19: 100%|██████████| 289/289 [00:03<00:00, 88.79it/s, accuracy=0.979, loss=0.333]\n"
     ]
    },
    {
     "name": "stdout",
     "output_type": "stream",
     "text": [
      "Validation accuracy: 0.9780405405405406\n"
     ]
    },
    {
     "name": "stderr",
     "output_type": "stream",
     "text": [
      "Epoch 20: 100%|██████████| 289/289 [00:03<00:00, 89.83it/s, accuracy=0.981, loss=0.332]\n",
      "Epoch 21: 100%|██████████| 289/289 [00:03<00:00, 90.09it/s, accuracy=0.981, loss=0.332]\n",
      "Epoch 22: 100%|██████████| 289/289 [00:03<00:00, 89.18it/s, accuracy=0.981, loss=0.332]\n",
      "Epoch 23: 100%|██████████| 289/289 [00:03<00:00, 89.82it/s, accuracy=0.982, loss=0.331]\n",
      "Epoch 24: 100%|██████████| 289/289 [00:03<00:00, 91.74it/s, accuracy=0.983, loss=0.33] \n"
     ]
    },
    {
     "name": "stdout",
     "output_type": "stream",
     "text": [
      "Validation accuracy: 0.9797297297297297\n"
     ]
    },
    {
     "name": "stderr",
     "output_type": "stream",
     "text": [
      "Epoch 25: 100%|██████████| 289/289 [00:03<00:00, 89.08it/s, accuracy=0.984, loss=0.33] \n",
      "Epoch 26: 100%|██████████| 289/289 [00:03<00:00, 90.13it/s, accuracy=0.984, loss=0.33] \n",
      "Epoch 27: 100%|██████████| 289/289 [00:03<00:00, 89.43it/s, accuracy=0.985, loss=0.328]\n",
      "Epoch 28: 100%|██████████| 289/289 [00:03<00:00, 88.34it/s, accuracy=0.987, loss=0.327]\n",
      "Epoch 29: 100%|██████████| 289/289 [00:03<00:00, 89.36it/s, accuracy=0.986, loss=0.327]\n"
     ]
    },
    {
     "name": "stdout",
     "output_type": "stream",
     "text": [
      "Validation accuracy: 0.9839527027027027\n"
     ]
    },
    {
     "name": "stderr",
     "output_type": "stream",
     "text": [
      "Epoch 30: 100%|██████████| 289/289 [00:03<00:00, 89.40it/s, accuracy=0.986, loss=0.327]\n",
      "Epoch 31: 100%|██████████| 289/289 [00:03<00:00, 90.12it/s, accuracy=0.988, loss=0.326]\n",
      "Epoch 32: 100%|██████████| 289/289 [00:03<00:00, 91.21it/s, accuracy=0.987, loss=0.326]\n",
      "Epoch 33: 100%|██████████| 289/289 [00:03<00:00, 89.05it/s, accuracy=0.988, loss=0.325]\n",
      "Epoch 34: 100%|██████████| 289/289 [00:03<00:00, 89.14it/s, accuracy=0.989, loss=0.324]\n"
     ]
    },
    {
     "name": "stdout",
     "output_type": "stream",
     "text": [
      "Validation accuracy: 0.9831081081081081\n"
     ]
    },
    {
     "name": "stderr",
     "output_type": "stream",
     "text": [
      "Epoch 35: 100%|██████████| 289/289 [00:03<00:00, 90.76it/s, accuracy=0.989, loss=0.325]\n",
      "Epoch 36: 100%|██████████| 289/289 [00:03<00:00, 90.44it/s, accuracy=0.989, loss=0.324]\n",
      "Epoch 37: 100%|██████████| 289/289 [00:03<00:00, 89.76it/s, accuracy=0.989, loss=0.324]\n",
      "Epoch 38: 100%|██████████| 289/289 [00:03<00:00, 90.56it/s, accuracy=0.99, loss=0.324] \n",
      "Epoch 39: 100%|██████████| 289/289 [00:03<00:00, 90.33it/s, accuracy=0.99, loss=0.323] \n"
     ]
    },
    {
     "name": "stdout",
     "output_type": "stream",
     "text": [
      "Validation accuracy: 0.9881756756756757\n"
     ]
    },
    {
     "name": "stderr",
     "output_type": "stream",
     "text": [
      "Epoch 40: 100%|██████████| 289/289 [00:03<00:00, 89.26it/s, accuracy=0.99, loss=0.324] \n",
      "Epoch 41: 100%|██████████| 289/289 [00:03<00:00, 89.32it/s, accuracy=0.989, loss=0.324]\n",
      "Epoch 42: 100%|██████████| 289/289 [00:03<00:00, 89.88it/s, accuracy=0.991, loss=0.323]\n",
      "Epoch 43: 100%|██████████| 289/289 [00:03<00:00, 89.94it/s, accuracy=0.991, loss=0.322]\n",
      "Epoch 44: 100%|██████████| 289/289 [00:03<00:00, 89.43it/s, accuracy=0.991, loss=0.322]\n"
     ]
    },
    {
     "name": "stdout",
     "output_type": "stream",
     "text": [
      "Validation accuracy: 0.9864864864864865\n"
     ]
    },
    {
     "name": "stderr",
     "output_type": "stream",
     "text": [
      "Epoch 45: 100%|██████████| 289/289 [00:03<00:00, 88.89it/s, accuracy=0.992, loss=0.322]\n",
      "Epoch 46: 100%|██████████| 289/289 [00:03<00:00, 90.62it/s, accuracy=0.99, loss=0.323] \n",
      "Epoch 47: 100%|██████████| 289/289 [00:03<00:00, 90.04it/s, accuracy=0.991, loss=0.322]\n",
      "Epoch 48: 100%|██████████| 289/289 [00:03<00:00, 89.95it/s, accuracy=0.992, loss=0.322]\n",
      "Epoch 49: 100%|██████████| 289/289 [00:03<00:00, 90.36it/s, accuracy=0.991, loss=0.322]\n"
     ]
    },
    {
     "name": "stdout",
     "output_type": "stream",
     "text": [
      "Validation accuracy: 0.987331081081081\n"
     ]
    }
   ],
   "source": [
    "loss_train_values = []\n",
    "loss_val_values = []\n",
    "accuracy_train_values = []\n",
    "accuracy_val_values = []\n",
    "lr_values = [] \n",
    "\n",
    "for epoch in range(EPOCHS):\n",
    "    skinlesnet.train()\n",
    "\n",
    "    epoch_loss = 0.0\n",
    "    epoch_accuracy = 0.0\n",
    "\n",
    "    progress_bar = tqdm(enumerate(train_loader), total=len(train_loader))\n",
    "    progress_bar.set_description(f\"Epoch {epoch}\")\n",
    "    for step, batch in progress_bar:\n",
    "        images_batch = batch['image'].to(DEVICE)\n",
    "        labels_batch = batch['label'].to(DEVICE).long()\n",
    "        optimizer.zero_grad(set_to_none=True)\n",
    "        output = skinlesnet(images_batch)\n",
    "        loss_value = loss(output, labels_batch)\n",
    "        loss_value.backward()\n",
    "        optimizer.step()\n",
    "        epoch_loss += loss_value.item()\n",
    "        epoch_accuracy += calculate_accuracy(output, labels_batch)\n",
    "        progress_bar.set_postfix(loss=epoch_loss / (step + 1), accuracy=epoch_accuracy / (step + 1))\n",
    "\n",
    "    loss_train_values.append(epoch_loss / len(train_loader))\n",
    "    accuracy_train_values.append(epoch_accuracy / len(train_loader))\n",
    "    lr_values.append(lr_sch.get_last_lr()[0])\n",
    "    lr_sch.step(epoch_loss / len(train_loader))\n",
    "\n",
    "    if (epoch+1) % 5 == 0:\n",
    "        skinlesnet.eval()\n",
    "        val_loss = 0.0\n",
    "        val_accuracy = 0.0\n",
    "        \n",
    "        with torch.no_grad():\n",
    "            for step, batch in enumerate(val_loader):\n",
    "                images_batch = batch['image'].to(DEVICE)\n",
    "                labels_batch = batch['label'].to(DEVICE).long()\n",
    "                output = skinlesnet(images_batch)\n",
    "\n",
    "                loss_value = loss(output, labels_batch)\n",
    "                val_loss += loss_value.item()\n",
    "                val_accuracy += calculate_accuracy(output, labels_batch.long())\n",
    "\n",
    "        loss_val_values.append(val_loss / len(val_loader))\n",
    "        accuracy_val_values.append(val_accuracy / len(val_loader))\n",
    "\n",
    "        print(f\"Validation accuracy: {val_accuracy / len(val_loader)}\")\n"
   ]
  },
  {
   "cell_type": "markdown",
   "metadata": {},
   "source": [
    "Guardamos el modelo y los valores de loss y accuracy durante el entrenamiento de la red."
   ]
  },
  {
   "cell_type": "code",
   "execution_count": 20,
   "metadata": {},
   "outputs": [],
   "source": [
    "# Guardamos el modelo\n",
    "torch.save(skinlesnet.state_dict(), 'skinlesnet_ISIC2016_trained.pth')\n",
    "\n",
    "# Escribir los valores de loss y accuracy para cada una de las épocas en un fichero\n",
    "empty_string = \"\"\n",
    "with open('skinlesnet_ISIC2016_training_data.csv', 'w') as f:\n",
    "    f.write('epoch,loss_train,loss_val,accuracy_train,accuracy_val,lr\\n')\n",
    "    i = 0\n",
    "    for epoch in range(EPOCHS):\n",
    "        if (epoch+1) % 5 == 0:\n",
    "            f.write(f\"{epoch},{loss_train_values[epoch]},{loss_val_values[i]},{accuracy_train_values[epoch]},{accuracy_val_values[i]},{lr_values[epoch]}\\n\")\n",
    "            i+=1\n",
    "        else:\n",
    "            f.write(f\"{epoch},{loss_train_values[epoch]},{empty_string},{accuracy_train_values[epoch]},{empty_string},{lr_values[epoch]}\\n\")"
   ]
  },
  {
   "cell_type": "markdown",
   "metadata": {},
   "source": [
    "## Prueba del clasificador con el conjunto de test\n",
    "\n",
    "Finalmente, ponemos a prueba el clasificador entrenado sobre un conjunto de imágenes de test. Evaluamos el rendimiento del clasificador sobre este conjunto calculando distintas métricas de evaluación."
   ]
  },
  {
   "cell_type": "code",
   "execution_count": 21,
   "metadata": {},
   "outputs": [],
   "source": [
    "# Calculamos la matriz de confusión con los datos de validación\n",
    "skinlesnet.eval()\n",
    "y_true = []\n",
    "y_pred = []\n",
    "with torch.no_grad():\n",
    "    for step, batch in enumerate(test_loader):\n",
    "        images_batch = batch['image'].to(DEVICE)\n",
    "        labels_batch = batch['label'].to(DEVICE).long()\n",
    "        y_true += labels_batch.tolist()\n",
    "        output = skinlesnet(images_batch)\n",
    "        _, predicted = torch.max(output, 1)\n",
    "        y_pred += predicted.tolist()"
   ]
  },
  {
   "cell_type": "code",
   "execution_count": 22,
   "metadata": {},
   "outputs": [
    {
     "name": "stdout",
     "output_type": "stream",
     "text": [
      "SkinLesNet ISIC2016\n",
      "\n",
      "Final accuracy validation: 0.9835355285961872\n",
      "Final precision validation: 0.9759036144578314\n",
      "Final recall validation: 0.9912587412587412\n",
      "Final f1 validation: 0.9835212489158717\n",
      "Final confusion matrix validation: [[568  14]\n",
      " [  5 567]]\n"
     ]
    }
   ],
   "source": [
    "# Calculamos las métricas de evaluación de la clasificación\n",
    "print(\"SkinLesNet ISIC2016\\n\")\n",
    "accuracy_val = accuracy_score(y_true, y_pred)\n",
    "print(f\"Final accuracy validation: {accuracy_val}\")\n",
    "precision_val = precision_score(y_true, y_pred)\n",
    "print(f\"Final precision validation: {precision_val}\")\n",
    "recall_val = recall_score(y_true, y_pred)\n",
    "print(f\"Final recall validation: {recall_val}\")\n",
    "f1_val = f1_score(y_true, y_pred)\n",
    "print(f\"Final f1 validation: {f1_val}\")\n",
    "conf_matrix = confusion_matrix(y_true, y_pred)\n",
    "print(f\"Final confusion matrix validation: {conf_matrix}\")"
   ]
  }
 ],
 "metadata": {
  "kernelspec": {
   "display_name": "tfm",
   "language": "python",
   "name": "python3"
  },
  "language_info": {
   "codemirror_mode": {
    "name": "ipython",
    "version": 3
   },
   "file_extension": ".py",
   "mimetype": "text/x-python",
   "name": "python",
   "nbconvert_exporter": "python",
   "pygments_lexer": "ipython3",
   "version": "3.12.4"
  }
 },
 "nbformat": 4,
 "nbformat_minor": 2
}
