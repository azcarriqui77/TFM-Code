{
 "cells": [
  {
   "cell_type": "markdown",
   "id": "9d71306f",
   "metadata": {},
   "source": [
    "# Modelos Probabilísticos de Difusión de Eliminación de Ruido (DDPMs) con el conjunto de datos MedNIST\n",
    "\n",
    "En el presente notebook se muestra cómo entrenar un modelo de difusión DDPM para crear imágenes sintéticas 2D usando el código del proyecto [MONAI][https://github.com/Project-MONAI/GenerativeModels]. El modelo DDPM se basa en el artículo de investigación de Ho et al. [1].\n",
    "\n",
    "[1] - Ho et al. \"Denoising Diffusion Probabilistic Models\" https://arxiv.org/abs/2006.11239"
   ]
  },
  {
   "cell_type": "markdown",
   "id": "f3154fee",
   "metadata": {},
   "source": [
    "## Importar librerías necesarias"
   ]
  },
  {
   "cell_type": "code",
   "execution_count": 1,
   "id": "dd62a552",
   "metadata": {
    "jupyter": {
     "outputs_hidden": false
    }
   },
   "outputs": [
    {
     "name": "stdout",
     "output_type": "stream",
     "text": [
      "MONAI version: 1.3.2\n",
      "Numpy version: 1.26.4\n",
      "Pytorch version: 2.3.1\n",
      "MONAI flags: HAS_EXT = False, USE_COMPILED = False, USE_META_DICT = False\n",
      "MONAI rev id: 59a7211070538586369afd4a01eca0a7fe2e742e\n",
      "MONAI __file__: /opt/anaconda3/envs/tfm/lib/python3.12/site-packages/monai/__init__.py\n",
      "\n",
      "Optional dependencies:\n",
      "Pytorch Ignite version: NOT INSTALLED or UNKNOWN VERSION.\n",
      "ITK version: NOT INSTALLED or UNKNOWN VERSION.\n",
      "Nibabel version: NOT INSTALLED or UNKNOWN VERSION.\n",
      "scikit-image version: NOT INSTALLED or UNKNOWN VERSION.\n",
      "scipy version: 1.13.1\n",
      "Pillow version: 10.3.0\n",
      "Tensorboard version: 2.6.0\n",
      "gdown version: 5.2.0\n",
      "TorchVision version: 0.18.1\n",
      "tqdm version: 4.66.4\n",
      "lmdb version: NOT INSTALLED or UNKNOWN VERSION.\n",
      "psutil version: 5.9.0\n",
      "pandas version: 2.2.2\n",
      "einops version: NOT INSTALLED or UNKNOWN VERSION.\n",
      "transformers version: NOT INSTALLED or UNKNOWN VERSION.\n",
      "mlflow version: NOT INSTALLED or UNKNOWN VERSION.\n",
      "pynrrd version: NOT INSTALLED or UNKNOWN VERSION.\n",
      "clearml version: NOT INSTALLED or UNKNOWN VERSION.\n",
      "\n",
      "For details about installing the optional dependencies, please visit:\n",
      "    https://docs.monai.io/en/latest/installation.html#installing-the-recommended-dependencies\n",
      "\n"
     ]
    }
   ],
   "source": [
    "import os\n",
    "import shutil\n",
    "import tempfile\n",
    "import time\n",
    "from itertools import combinations\n",
    "\n",
    "import matplotlib.pyplot as plt\n",
    "import numpy as np\n",
    "import torch\n",
    "import torch.nn.functional as F\n",
    "from torch.utils.data import Dataset, DataLoader\n",
    "from torchvision.transforms import transforms\n",
    "\n",
    "from monai.apps import MedNISTDataset\n",
    "from monai.config import print_config\n",
    "from monai.utils import first, set_determinism\n",
    "from torch.cuda.amp import GradScaler, autocast\n",
    "from tqdm import tqdm\n",
    "\n",
    "import torch.optim.lr_scheduler as lr_scheduler\n",
    "\n",
    "from generative.metrics import FIDMetric, MultiScaleSSIMMetric, SSIMMetric\n",
    "\n",
    "from generative.inferers import DiffusionInferer\n",
    "from generative.networks.nets import DiffusionModelUNet\n",
    "from generative.networks.schedulers import DDPMScheduler\n",
    "\n",
    "print_config()"
   ]
  },
  {
   "cell_type": "markdown",
   "id": "be99fa93",
   "metadata": {},
   "source": [
    "## Elegir un directorio de almacenamiento de datos\n",
    "\n",
    "Elegir un directorio de almacenamiento de datos para guardar los datos descargados y los modelos entrenados. Si no se especifica, se utilizará un directorio temporal que se eliminará después de la ejecución."
   ]
  },
  {
   "cell_type": "code",
   "execution_count": 15,
   "id": "8fc58c80",
   "metadata": {
    "jupyter": {
     "outputs_hidden": false
    }
   },
   "outputs": [
    {
     "name": "stdout",
     "output_type": "stream",
     "text": [
      "/Users/alzorrcarri\n"
     ]
    }
   ],
   "source": [
    "directory = '/Users/alzorrcarri'\n",
    "# directory = r\"D:\\MONAI_DATA_DIRECTORY\"\n",
    "root_dir = tempfile.mkdtemp() if directory is None else directory\n",
    "print(root_dir)"
   ]
  },
  {
   "cell_type": "markdown",
   "id": "b41e37b3",
   "metadata": {},
   "source": [
    "## Preparar el conjunto de datos MedNIST y los dataloaders de entrenamiento y validación\n",
    "\n",
    "En este tutorial, entrenaremos nuestros modelos en el conjunto de datos MedNIST disponible en MONAI (https://docs.monai.io/en/stable/apps.html#monai.apps.MedNISTDataset). Para entrenar más rápido, seleccionaremos solo una de las clases disponibles (\"Hand\"), lo que resulta en un conjunto de entrenamiento con 7999 imágenes 2D."
   ]
  },
  {
   "cell_type": "code",
   "execution_count": 3,
   "id": "65e1c200",
   "metadata": {
    "jupyter": {
     "outputs_hidden": false
    }
   },
   "outputs": [
    {
     "name": "stdout",
     "output_type": "stream",
     "text": [
      "2024-07-03 21:28:42,218 - INFO - Verified 'MedNIST.tar.gz', md5: 0bc7306e7427e00ad1c5526a6677552d.\n",
      "2024-07-03 21:28:42,218 - INFO - File exists: /Users/alzorrcarri/MedNIST.tar.gz, skipped downloading.\n",
      "2024-07-03 21:28:42,219 - INFO - Non-empty folder exists in /Users/alzorrcarri/MedNIST, skipped extracting.\n"
     ]
    }
   ],
   "source": [
    "train_data = MedNISTDataset(root_dir=root_dir, section=\"training\", download=True, progress=False, seed=0)\n",
    "train_datalist = [{\"image\": item[\"image\"]} for item in train_data.data if item[\"class_name\"] == \"Hand\"]"
   ]
  },
  {
   "cell_type": "code",
   "execution_count": 16,
   "id": "22957fdf",
   "metadata": {},
   "outputs": [
    {
     "name": "stdout",
     "output_type": "stream",
     "text": [
      "2024-07-03 21:58:10,157 - INFO - Verified 'MedNIST.tar.gz', md5: 0bc7306e7427e00ad1c5526a6677552d.\n",
      "2024-07-03 21:58:10,157 - INFO - File exists: /Users/alzorrcarri/MedNIST.tar.gz, skipped downloading.\n",
      "2024-07-03 21:58:10,158 - INFO - Non-empty folder exists in /Users/alzorrcarri/MedNIST, skipped extracting.\n"
     ]
    }
   ],
   "source": [
    "val_data = MedNISTDataset(root_dir=root_dir, section=\"validation\", download=True, progress=False, seed=0)\n",
    "val_datalist = [{\"image\": item[\"image\"]} for item in val_data.data if item[\"class_name\"] == \"Hand\"]"
   ]
  },
  {
   "cell_type": "code",
   "execution_count": 17,
   "id": "fb4fc694",
   "metadata": {},
   "outputs": [],
   "source": [
    "transformations = transforms.Compose([\n",
    "    transforms.CenterCrop(45),\n",
    "    transforms.Resize(32),\n",
    "    transforms.Normalize(mean=0.0, std=255.0),\n",
    "    transforms.RandomHorizontalFlip(p=0.5),\n",
    "    transforms.RandomVerticalFlip(p=0.5),\n",
    "    transforms.RandomInvert(p=0.25)\n",
    "])"
   ]
  },
  {
   "cell_type": "code",
   "execution_count": 6,
   "id": "6bc8ca79",
   "metadata": {},
   "outputs": [
    {
     "data": {
      "text/plain": [
       "<matplotlib.image.AxesImage at 0x31a7b6900>"
      ]
     },
     "execution_count": 6,
     "metadata": {},
     "output_type": "execute_result"
    },
    {
     "data": {
      "image/png": "[encoded data removed]",
      "text/plain": [
       "<Figure size 640x480 with 1 Axes>"
      ]
     },
     "metadata": {},
     "output_type": "display_data"
    }
   ],
   "source": [
    "train_images = []\n",
    "for i in range(len(train_datalist)):\n",
    "    image = plt.imread(train_datalist[i]['image'])\n",
    "    image = torch.tensor(image, dtype=torch.float32)\n",
    "    image = image.unsqueeze(0)\n",
    "    image = transformations(image) \n",
    "    train_images.append(image)\n",
    "\n",
    "plt.imshow(train_images[0].permute(2, 1, 0), cmap='gray')"
   ]
  },
  {
   "cell_type": "code",
   "execution_count": 7,
   "id": "60f49417",
   "metadata": {},
   "outputs": [],
   "source": [
    "train_images = torch.stack(train_images)"
   ]
  },
  {
   "cell_type": "code",
   "execution_count": 18,
   "id": "736a7960",
   "metadata": {},
   "outputs": [
    {
     "data": {
      "text/plain": [
       "<matplotlib.image.AxesImage at 0x3c44a1460>"
      ]
     },
     "execution_count": 18,
     "metadata": {},
     "output_type": "execute_result"
    },
    {
     "data": {
      "image/png": "[encoded data removed]",
      "text/plain": [
       "<Figure size 640x480 with 1 Axes>"
      ]
     },
     "metadata": {},
     "output_type": "display_data"
    }
   ],
   "source": [
    "val_images = []\n",
    "for i in range(len(val_datalist)): \n",
    "    image = plt.imread(val_datalist[i]['image'])\n",
    "    image = torch.tensor(image, dtype=torch.float32)\n",
    "    image = image.unsqueeze(0)\n",
    "    image = transformations(image) \n",
    "    val_images.append(image)\n",
    "\n",
    "plt.imshow(val_images[0].permute(2, 1, 0), cmap='gray')"
   ]
  },
  {
   "cell_type": "code",
   "execution_count": 19,
   "id": "d84ceeb1",
   "metadata": {},
   "outputs": [],
   "source": [
    "val_images = torch.stack(val_images)"
   ]
  },
  {
   "cell_type": "code",
   "execution_count": 10,
   "id": "4ebd8fa1",
   "metadata": {},
   "outputs": [],
   "source": [
    "train_loader = DataLoader(train_images, batch_size=32, shuffle=True, num_workers=2, persistent_workers=True)"
   ]
  },
  {
   "cell_type": "code",
   "execution_count": 20,
   "id": "cd7d1503",
   "metadata": {},
   "outputs": [],
   "source": [
    "val_loader = DataLoader(val_images, batch_size=32, shuffle=False, num_workers=2, persistent_workers=True)"
   ]
  },
  {
   "cell_type": "markdown",
   "id": "a56a4e42",
   "metadata": {},
   "source": [
    "### Visualización de las imágenes de entrenamiento"
   ]
  },
  {
   "cell_type": "code",
   "execution_count": 11,
   "id": "b698f4f8",
   "metadata": {
    "jupyter": {
     "outputs_hidden": false
    }
   },
   "outputs": [
    {
     "name": "stdout",
     "output_type": "stream",
     "text": [
      "forma del batch: torch.Size([32, 1, 32, 32])\n"
     ]
    },
    {
     "data": {
      "image/png": "[encoded data removed]",
      "text/plain": [
       "<Figure size 1200x600 with 1 Axes>"
      ]
     },
     "metadata": {},
     "output_type": "display_data"
    }
   ],
   "source": [
    "check_data = first(train_loader)\n",
    "print(f\"forma del batch: {check_data.shape}\")\n",
    "image_visualisation = torch.cat(\n",
    "    [check_data[0, 0], check_data[1, 0], check_data[2, 0], check_data[3, 0]], dim=1\n",
    ")\n",
    "plt.figure(\"training images\", (12, 6))\n",
    "plt.imshow(image_visualisation, vmin=0, vmax=1, cmap=\"gray\")\n",
    "plt.axis(\"off\")\n",
    "plt.tight_layout()\n",
    "plt.show()"
   ]
  },
  {
   "cell_type": "code",
   "execution_count": 12,
   "id": "c3275ff3",
   "metadata": {},
   "outputs": [],
   "source": [
    "# Guardamos varias de las imágenes de entrenamiento en disco\n",
    "for i in range(len(check_data)):\n",
    "    plt.imsave(f\"/Users/alzorrcarri/Library/CloudStorage/Dropbox/tfm/codigo/MONAI Project/DDPM2D MedNIST Hand MONAI/train_{i}.png\", check_data[i, 0], cmap=\"gray\")"
   ]
  },
  {
   "cell_type": "markdown",
   "id": "d3090350",
   "metadata": {},
   "source": [
    "### Definición de la red, programador, optimizador e inferer\n",
    "En este paso, instanciamos los componentes de MONAI para crear un DDPM, el UNET, el programador de ruido y el inferer utilizados para el entrenamiento y el muestreo. Estamos utilizando el programador de ruido DDPM original que contiene 1000 pasos de tiempo en su cadena de Markov, y un UNET 2D con mecanismos de atención en el 2º y 3er niveles, cada uno con 1 cabeza de atención."
   ]
  },
  {
   "cell_type": "code",
   "execution_count": 2,
   "id": "2c52e4f4",
   "metadata": {
    "jupyter": {
     "outputs_hidden": false
    },
    "lines_to_next_cell": 0
   },
   "outputs": [],
   "source": [
    "device = torch.device(\"mps\")\n",
    "\n",
    "model = DiffusionModelUNet(\n",
    "    spatial_dims=2,\n",
    "    in_channels=1,\n",
    "    out_channels=1,\n",
    "    num_channels=(128, 256, 256),\n",
    "    attention_levels=(False, True, True),\n",
    "    num_res_blocks=1,\n",
    "    num_head_channels=256,\n",
    ")\n",
    "model.to(device)\n",
    "\n",
    "scheduler = DDPMScheduler(num_train_timesteps=1000)\n",
    "\n",
    "optimizer = torch.optim.Adam(params=model.parameters(), lr=0.001)\n",
    "\n",
    "inferer = DiffusionInferer(scheduler)"
   ]
  },
  {
   "cell_type": "markdown",
   "id": "5a316067",
   "metadata": {},
   "source": [
    "## Entrenamiento del modelo\n",
    "\n",
    "Entrenamos el modelo DDPM con el conjunto de datos MedNIST. Durante el entrenamiento se estudia la evolución y el valor final de la función de pérdida y el FID en función de la tasa de aprendizaje (valor y evolución), el número de timesteps para el DDPMScheduler o el número de epochs de entrenamiento del modelo."
   ]
  },
  {
   "cell_type": "code",
   "execution_count": 15,
   "id": "0f697a13",
   "metadata": {
    "jupyter": {
     "outputs_hidden": false
    },
    "lines_to_next_cell": 0
   },
   "outputs": [
    {
     "name": "stderr",
     "output_type": "stream",
     "text": [
      "Epoch 0:   0%|                                | 0/250 [00:00<?, ?it/s]/opt/anaconda3/envs/tfm/lib/python3.12/site-packages/torch/amp/autocast_mode.py:250: UserWarning: User provided device_type of 'cuda', but CUDA is not available. Disabling\n",
      "  warnings.warn(\n",
      "Epoch 0: 100%|█████████| 250/250 [01:36<00:00,  2.60it/s, loss=0.0731]\n",
      "Epoch 1: 100%|█████████| 250/250 [01:33<00:00,  2.69it/s, loss=0.0308]\n",
      "Epoch 2: 100%|█████████| 250/250 [01:33<00:00,  2.66it/s, loss=0.0273]\n",
      "Epoch 3: 100%|█████████| 250/250 [01:32<00:00,  2.69it/s, loss=0.0259]\n",
      "Epoch 4: 100%|█████████| 250/250 [01:33<00:00,  2.68it/s, loss=0.0254]\n",
      "100%|██████████| 1000/1000 [00:21<00:00, 46.05it/s]\n"
     ]
    },
    {
     "data": {
      "image/png": "[encoded data removed]",
      "text/plain": [
       "<Figure size 200x200 with 1 Axes>"
      ]
     },
     "metadata": {},
     "output_type": "display_data"
    },
    {
     "name": "stderr",
     "output_type": "stream",
     "text": [
      "Epoch 5: 100%|█████████| 250/250 [01:34<00:00,  2.66it/s, loss=0.0243]\n",
      "Epoch 6: 100%|█████████| 250/250 [01:32<00:00,  2.69it/s, loss=0.0228]\n",
      "Epoch 7: 100%|█████████| 250/250 [01:33<00:00,  2.69it/s, loss=0.0223]\n",
      "Epoch 8: 100%|█████████| 250/250 [01:32<00:00,  2.69it/s, loss=0.0212]\n",
      "Epoch 9: 100%|██████████| 250/250 [01:32<00:00,  2.69it/s, loss=0.021]\n",
      "100%|██████████| 1000/1000 [00:20<00:00, 47.73it/s]\n"
     ]
    },
    {
     "data": {
      "image/png": "[encoded data removed]",
      "text/plain": [
       "<Figure size 200x200 with 1 Axes>"
      ]
     },
     "metadata": {},
     "output_type": "display_data"
    },
    {
     "name": "stderr",
     "output_type": "stream",
     "text": [
      "Epoch 10: 100%|████████| 250/250 [01:33<00:00,  2.69it/s, loss=0.0208]\n",
      "Epoch 11: 100%|████████| 250/250 [01:33<00:00,  2.69it/s, loss=0.0189]\n",
      "Epoch 12: 100%|████████| 250/250 [01:32<00:00,  2.69it/s, loss=0.0199]\n",
      "Epoch 13: 100%|████████| 250/250 [01:33<00:00,  2.69it/s, loss=0.0186]\n",
      "Epoch 14: 100%|████████| 250/250 [01:33<00:00,  2.69it/s, loss=0.0193]\n",
      "100%|██████████| 1000/1000 [00:20<00:00, 47.76it/s]\n"
     ]
    },
    {
     "data": {
      "image/png": "[encoded data removed]",
      "text/plain": [
       "<Figure size 200x200 with 1 Axes>"
      ]
     },
     "metadata": {},
     "output_type": "display_data"
    },
    {
     "name": "stderr",
     "output_type": "stream",
     "text": [
      "Epoch 15: 100%|████████| 250/250 [01:33<00:00,  2.69it/s, loss=0.0185]\n",
      "Epoch 16: 100%|████████| 250/250 [01:32<00:00,  2.69it/s, loss=0.0172]\n",
      "Epoch 17: 100%|████████| 250/250 [01:32<00:00,  2.69it/s, loss=0.0183]\n",
      "Epoch 18: 100%|████████| 250/250 [01:33<00:00,  2.69it/s, loss=0.0178]\n",
      "Epoch 19: 100%|████████| 250/250 [01:32<00:00,  2.69it/s, loss=0.0186]\n",
      "100%|██████████| 1000/1000 [00:20<00:00, 47.87it/s]\n"
     ]
    },
    {
     "data": {
      "image/png": "[encoded data removed]",
      "text/plain": [
       "<Figure size 200x200 with 1 Axes>"
      ]
     },
     "metadata": {},
     "output_type": "display_data"
    },
    {
     "name": "stderr",
     "output_type": "stream",
     "text": [
      "Epoch 20: 100%|████████| 250/250 [01:32<00:00,  2.69it/s, loss=0.0177]\n",
      "Epoch 21: 100%|████████| 250/250 [01:32<00:00,  2.70it/s, loss=0.0185]\n",
      "Epoch 22: 100%|█████████| 250/250 [01:32<00:00,  2.69it/s, loss=0.017]\n",
      "Epoch 23: 100%|████████| 250/250 [01:32<00:00,  2.69it/s, loss=0.0171]\n",
      "Epoch 24: 100%|████████| 250/250 [01:32<00:00,  2.69it/s, loss=0.0177]\n",
      "100%|██████████| 1000/1000 [00:21<00:00, 47.33it/s]\n"
     ]
    },
    {
     "data": {
      "image/png": "[encoded data removed]",
      "text/plain": [
       "<Figure size 200x200 with 1 Axes>"
      ]
     },
     "metadata": {},
     "output_type": "display_data"
    },
    {
     "name": "stderr",
     "output_type": "stream",
     "text": [
      "Epoch 25: 100%|████████| 250/250 [01:32<00:00,  2.69it/s, loss=0.0178]\n",
      "Epoch 26: 100%|█████████| 250/250 [01:32<00:00,  2.69it/s, loss=0.018]\n",
      "Epoch 27: 100%|████████| 250/250 [01:32<00:00,  2.69it/s, loss=0.0173]\n",
      "Epoch 28: 100%|████████| 250/250 [01:32<00:00,  2.69it/s, loss=0.0174]\n",
      "Epoch 29: 100%|████████| 250/250 [04:10<00:00,  1.00s/it, loss=0.0165]\n",
      "100%|██████████| 1000/1000 [02:50<00:00,  5.87it/s] \n"
     ]
    },
    {
     "data": {
      "image/png": "[encoded data removed]",
      "text/plain": [
       "<Figure size 200x200 with 1 Axes>"
      ]
     },
     "metadata": {},
     "output_type": "display_data"
    },
    {
     "name": "stderr",
     "output_type": "stream",
     "text": [
      "Epoch 30: 100%|████████| 250/250 [01:33<00:00,  2.69it/s, loss=0.0162]\n",
      "Epoch 31: 100%|████████| 250/250 [01:32<00:00,  2.69it/s, loss=0.0173]\n",
      "Epoch 32: 100%|████████| 250/250 [01:32<00:00,  2.69it/s, loss=0.0162]\n",
      "Epoch 33: 100%|████████| 250/250 [01:32<00:00,  2.69it/s, loss=0.0161]\n",
      "Epoch 34: 100%|████████| 250/250 [01:32<00:00,  2.69it/s, loss=0.0158]\n",
      "100%|██████████| 1000/1000 [00:20<00:00, 47.66it/s]\n"
     ]
    },
    {
     "data": {
      "image/png": "[encoded data removed]",
      "text/plain": [
       "<Figure size 200x200 with 1 Axes>"
      ]
     },
     "metadata": {},
     "output_type": "display_data"
    },
    {
     "name": "stderr",
     "output_type": "stream",
     "text": [
      "Epoch 35: 100%|████████| 250/250 [01:32<00:00,  2.69it/s, loss=0.0168]\n",
      "Epoch 36: 100%|████████| 250/250 [16:42<00:00,  4.01s/it, loss=0.0169]\n",
      "Epoch 37: 100%|████████| 250/250 [01:32<00:00,  2.69it/s, loss=0.0172]\n",
      "Epoch 38: 100%|████████| 250/250 [01:32<00:00,  2.69it/s, loss=0.0162]\n",
      "Epoch 39: 100%|████████| 250/250 [01:32<00:00,  2.69it/s, loss=0.0165]\n",
      "100%|██████████| 1000/1000 [00:21<00:00, 47.23it/s]\n"
     ]
    },
    {
     "data": {
      "image/png": "[encoded data removed]",
      "text/plain": [
       "<Figure size 200x200 with 1 Axes>"
      ]
     },
     "metadata": {},
     "output_type": "display_data"
    },
    {
     "name": "stderr",
     "output_type": "stream",
     "text": [
      "Epoch 40: 100%|████████| 250/250 [01:32<00:00,  2.69it/s, loss=0.0156]\n",
      "Epoch 41: 100%|████████| 250/250 [01:32<00:00,  2.69it/s, loss=0.0162]\n",
      "Epoch 42: 100%|█████████| 250/250 [01:32<00:00,  2.69it/s, loss=0.016]\n",
      "Epoch 43: 100%|████████| 250/250 [01:32<00:00,  2.69it/s, loss=0.0159]\n",
      "Epoch 44: 100%|████████| 250/250 [01:32<00:00,  2.69it/s, loss=0.0173]\n",
      "100%|██████████| 1000/1000 [00:20<00:00, 47.63it/s]\n"
     ]
    },
    {
     "data": {
      "image/png": "[encoded data removed]",
      "text/plain": [
       "<Figure size 200x200 with 1 Axes>"
      ]
     },
     "metadata": {},
     "output_type": "display_data"
    },
    {
     "name": "stderr",
     "output_type": "stream",
     "text": [
      "Epoch 45: 100%|████████| 250/250 [01:33<00:00,  2.68it/s, loss=0.0161]\n",
      "Epoch 46: 100%|████████| 250/250 [01:32<00:00,  2.69it/s, loss=0.0162]\n",
      "Epoch 47: 100%|████████| 250/250 [01:32<00:00,  2.69it/s, loss=0.0159]\n",
      "Epoch 48: 100%|████████| 250/250 [01:32<00:00,  2.69it/s, loss=0.0154]\n",
      "Epoch 49: 100%|████████| 250/250 [01:32<00:00,  2.70it/s, loss=0.0146]\n",
      "100%|██████████| 1000/1000 [00:20<00:00, 48.01it/s]\n"
     ]
    },
    {
     "data": {
      "image/png": "[encoded data removed]",
      "text/plain": [
       "<Figure size 200x200 with 1 Axes>"
      ]
     },
     "metadata": {},
     "output_type": "display_data"
    },
    {
     "name": "stderr",
     "output_type": "stream",
     "text": [
      "Epoch 50: 100%|████████| 250/250 [01:32<00:00,  2.70it/s, loss=0.0157]\n",
      "Epoch 51: 100%|████████| 250/250 [01:32<00:00,  2.69it/s, loss=0.0152]\n",
      "Epoch 52: 100%|████████| 250/250 [01:34<00:00,  2.66it/s, loss=0.0153]\n",
      "Epoch 53: 100%|████████| 250/250 [01:32<00:00,  2.69it/s, loss=0.0157]\n",
      "Epoch 54: 100%|████████| 250/250 [01:32<00:00,  2.69it/s, loss=0.0151]\n",
      "100%|██████████| 1000/1000 [00:21<00:00, 47.29it/s]\n"
     ]
    },
    {
     "data": {
      "image/png": "[encoded data removed]",
      "text/plain": [
       "<Figure size 200x200 with 1 Axes>"
      ]
     },
     "metadata": {},
     "output_type": "display_data"
    },
    {
     "name": "stderr",
     "output_type": "stream",
     "text": [
      "Epoch 55: 100%|█████████| 250/250 [01:32<00:00,  2.69it/s, loss=0.015]\n",
      "Epoch 56: 100%|████████| 250/250 [01:32<00:00,  2.69it/s, loss=0.0146]\n",
      "Epoch 57: 100%|████████| 250/250 [01:32<00:00,  2.69it/s, loss=0.0142]\n",
      "Epoch 58: 100%|████████| 250/250 [01:32<00:00,  2.69it/s, loss=0.0141]\n",
      "Epoch 59: 100%|████████| 250/250 [01:33<00:00,  2.69it/s, loss=0.0147]\n",
      "100%|██████████| 1000/1000 [00:21<00:00, 47.30it/s]\n"
     ]
    },
    {
     "data": {
      "image/png": "[encoded data removed]",
      "text/plain": [
       "<Figure size 200x200 with 1 Axes>"
      ]
     },
     "metadata": {},
     "output_type": "display_data"
    },
    {
     "name": "stderr",
     "output_type": "stream",
     "text": [
      "Epoch 60: 100%|████████| 250/250 [01:32<00:00,  2.69it/s, loss=0.0145]\n",
      "Epoch 61: 100%|████████| 250/250 [01:32<00:00,  2.69it/s, loss=0.0148]\n",
      "Epoch 62: 100%|████████| 250/250 [01:32<00:00,  2.69it/s, loss=0.0148]\n",
      "Epoch 63: 100%|████████| 250/250 [01:32<00:00,  2.69it/s, loss=0.0154]\n",
      "Epoch 64: 100%|████████| 250/250 [01:33<00:00,  2.69it/s, loss=0.0149]\n",
      "100%|██████████| 1000/1000 [00:21<00:00, 47.42it/s]\n"
     ]
    },
    {
     "data": {
      "image/png": "[encoded data removed]",
      "text/plain": [
       "<Figure size 200x200 with 1 Axes>"
      ]
     },
     "metadata": {},
     "output_type": "display_data"
    },
    {
     "name": "stderr",
     "output_type": "stream",
     "text": [
      "Epoch 65: 100%|█████████| 250/250 [01:32<00:00,  2.69it/s, loss=0.014]\n",
      "Epoch 66: 100%|████████| 250/250 [01:32<00:00,  2.69it/s, loss=0.0136]\n",
      "Epoch 67: 100%|████████| 250/250 [01:33<00:00,  2.68it/s, loss=0.0142]\n",
      "Epoch 68: 100%|████████| 250/250 [01:32<00:00,  2.69it/s, loss=0.0139]\n",
      "Epoch 69: 100%|████████| 250/250 [01:32<00:00,  2.69it/s, loss=0.0137]\n",
      "100%|██████████| 1000/1000 [00:20<00:00, 47.90it/s]\n"
     ]
    },
    {
     "data": {
      "image/png": "[encoded data removed]",
      "text/plain": [
       "<Figure size 200x200 with 1 Axes>"
      ]
     },
     "metadata": {},
     "output_type": "display_data"
    },
    {
     "name": "stdout",
     "output_type": "stream",
     "text": [
      "Entrenamiento completado, total time: 8072.275612831116.\n"
     ]
    }
   ],
   "source": [
    "n_epochs = 70\n",
    "val_interval = 5 # Intervalo de épocas para calcular la pérdida respecto al conjunto de validación\n",
    "epoch_loss_list = [] # Para almacenar los valores de la función de pérdida en cada época\n",
    "val_epoch_loss_list = []\n",
    "\n",
    "# Definimos los distintos tipos de schedulers que podemos utilizar\n",
    "lr_sch = lr_scheduler.LinearLR(optimizer, start_factor=1.0, end_factor=0.2, total_iters=n_epochs)\n",
    "lr_value_list = []\n",
    "\n",
    "scaler = GradScaler()\n",
    "total_start = time.time()\n",
    "\n",
    "# Entrenamiento del modelo\n",
    "for epoch in range(n_epochs):\n",
    "    model.train()\n",
    "    epoch_loss = 0\n",
    "    progress_bar = tqdm(enumerate(train_loader), total=len(train_loader), ncols=70)\n",
    "    progress_bar.set_description(f\"Epoch {epoch}\")\n",
    "    for step, batch in progress_bar:\n",
    "        images = batch.to(device)\n",
    "        optimizer.zero_grad(set_to_none=True)\n",
    "        with autocast(enabled=True):\n",
    "            noise = torch.randn_like(images).to(device)\n",
    "            timesteps = torch.randint(\n",
    "                0, inferer.scheduler.num_train_timesteps, (images.shape[0],), device=images.device\n",
    "            ).long()\n",
    "            noise_pred = inferer(inputs=images, diffusion_model=model, noise=noise, timesteps=timesteps)\n",
    "            loss = F.mse_loss(noise_pred.float(), noise.float())\n",
    "        scaler.scale(loss).backward()\n",
    "        scaler.step(optimizer) # Actualizamos los pesos del modelo\n",
    "        scaler.update()\n",
    "        epoch_loss += loss.item()\n",
    "        progress_bar.set_postfix({\"loss\": epoch_loss / (step + 1)})\n",
    "    epoch_loss_list.append(epoch_loss / (step + 1))\n",
    "    lr_value_list.append(lr_sch.get_last_lr()[0])\n",
    "    lr_sch.step() # Actualizamos el learning rate\n",
    "\n",
    "    if (epoch + 1) % val_interval == 0:\n",
    "        model.eval()\n",
    "        val_epoch_loss = 0\n",
    "        for step, batch in enumerate(val_loader):\n",
    "            images = batch.to(device)\n",
    "            with torch.no_grad():\n",
    "                with autocast(enabled=True):\n",
    "                    noise = torch.randn_like(images).to(device)\n",
    "                    timesteps = torch.randint(\n",
    "                        0, inferer.scheduler.num_train_timesteps, (images.shape[0],), device=images.device\n",
    "                    ).long()\n",
    "                    noise_pred = inferer(inputs=images, diffusion_model=model, noise=noise, timesteps=timesteps)\n",
    "                    val_loss = F.mse_loss(noise_pred.float(), noise.float())\n",
    "            val_epoch_loss += val_loss.item()\n",
    "            progress_bar.set_postfix({\"val_loss\": val_epoch_loss / (step + 1)})\n",
    "        val_epoch_loss_list.append(val_epoch_loss / (step + 1))\n",
    "\n",
    "        # Generamos una imagen durante el entrenamiento para observar la mejora de la calidad de las imágenes generadas\n",
    "        noise = torch.randn((1, 1, 32, 32))\n",
    "        noise = noise.to(device)\n",
    "        scheduler.set_timesteps(num_inference_steps=1000)\n",
    "        with autocast(enabled=True):\n",
    "            syn_images = inferer.sample(input_noise=noise, diffusion_model=model, scheduler=scheduler)\n",
    "        # Ploteamos una de las imágenes generadas\n",
    "        plt.figure(figsize=(2, 2))\n",
    "        plt.imshow(syn_images[0, 0].cpu(), vmin=0, vmax=1, cmap=\"gray\")\n",
    "        plt.tight_layout()\n",
    "        plt.axis(\"off\")\n",
    "        plt.savefig(os.path.join(\"/Users/alzorrcarri/Library/CloudStorage/Dropbox/tfm/codigo/MONAI Project/DDPM2D MedNIST Hand MONAI/training_sampling\", f\"synthetic_image_{epoch}.png\"))\n",
    "        plt.show()\n",
    "\n",
    "total_time = time.time() - total_start\n",
    "print(f\"Entrenamiento completado, total time: {total_time}.\")"
   ]
  },
  {
   "cell_type": "markdown",
   "id": "73709d98",
   "metadata": {},
   "source": [
    "Guardamos el modelo entrenado en el directorio de almacenamiento de datos especificado anteriormente."
   ]
  },
  {
   "cell_type": "code",
   "execution_count": 16,
   "id": "e53c9da6",
   "metadata": {},
   "outputs": [],
   "source": [
    "torch.save(model.state_dict(), \"/Users/alzorrcarri/Library/CloudStorage/Dropbox/tfm/codigo/MONAI Project/DDPM2D MedNIST Hand MONAI/ddpm2d_hand_model.pt\")"
   ]
  },
  {
   "cell_type": "code",
   "execution_count": 17,
   "metadata": {},
   "outputs": [],
   "source": [
    "# Guardamos en un fichero csv los valores de la función de pérdida y del FID para cada epoch.\n",
    "import csv\n",
    "\n",
    "with open(\"/Users/alzorrcarri/Library/CloudStorage/Dropbox/tfm/codigo/MONAI Project/DDPM2D MedNIST Hand MONAI/ddpm2d_hand_model_numeric_results.csv\", mode=\"w\") as file:\n",
    "    writer = csv.writer(file)\n",
    "    writer.writerow([\"Epoch\", \"Train Loss\", \"Validation Loss\", \"Learning Rate\"])\n",
    "    i = 0\n",
    "    for epoch in range(n_epochs):\n",
    "        if (epoch+1) % val_interval == 0:\n",
    "            writer.writerow([epoch, epoch_loss_list[epoch], val_epoch_loss_list[i], lr_value_list[epoch]])\n",
    "            i += 1\n",
    "        else:\n",
    "            writer.writerow([epoch, epoch_loss_list[epoch], \"\", lr_value_list[epoch]])"
   ]
  },
  {
   "cell_type": "markdown",
   "id": "2d61cffe",
   "metadata": {},
   "source": [
    "### Graficando el proceso de muestreo a lo largo de la cadena de Markov de DDPM"
   ]
  },
  {
   "cell_type": "code",
   "execution_count": null,
   "id": "1427e5d4",
   "metadata": {
    "jupyter": {
     "outputs_hidden": false
    }
   },
   "outputs": [],
   "source": [
    "model.eval()\n",
    "noise = torch.randn((1, 1, 32, 32))\n",
    "noise = noise.to(device)\n",
    "scheduler.set_timesteps(num_inference_steps=1000)\n",
    "with autocast(enabled=True):\n",
    "    image, intermediates = inferer.sample(\n",
    "        input_noise=noise, diffusion_model=model, scheduler=scheduler, save_intermediates=True, intermediate_steps=100\n",
    "    )\n",
    "\n",
    "chain = torch.cat(intermediates, dim=-1)"
   ]
  },
  {
   "cell_type": "code",
   "execution_count": 21,
   "id": "acd592c1",
   "metadata": {},
   "outputs": [
    {
     "data": {
      "image/png": "[encoded data removed]",
      "text/plain": [
       "<Figure size 640x480 with 1 Axes>"
      ]
     },
     "metadata": {},
     "output_type": "display_data"
    }
   ],
   "source": [
    "plt.style.use(\"default\")\n",
    "plt.imshow(chain[0, 0].cpu(), vmin=0, vmax=1, cmap=\"gray\")\n",
    "plt.tight_layout()\n",
    "plt.axis(\"off\")\n",
    "plt.savefig(\"/Users/alzorrcarri/Library/CloudStorage/Dropbox/tfm/codigo/MONAI Project/DDPM2D MedNIST Hand MONAI/synthetic_image_chain.png\", dpi=300)\n",
    "plt.show()"
   ]
  },
  {
   "cell_type": "markdown",
   "id": "40ab6680",
   "metadata": {},
   "source": [
    "### Calculando el SSIM para un conjunto de imágenes sintéticas\n",
    "\n",
    "Calculamos el SSIM y el MS-SSIM entre pares de imágenes sintéticas, los resultados del MS-SSIM y SSIM se pueden utilizar para evaluar la diversidad de las muestras sintéticas."
   ]
  },
  {
   "cell_type": "code",
   "execution_count": 3,
   "id": "8cc6d457",
   "metadata": {},
   "outputs": [
    {
     "data": {
      "text/plain": [
       "<All keys matched successfully>"
      ]
     },
     "execution_count": 3,
     "metadata": {},
     "output_type": "execute_result"
    }
   ],
   "source": [
    "model.load_state_dict(torch.load(\"/Users/alzorrcarri/Library/CloudStorage/Dropbox/tfm/codigo/MONAI Project/DDPM2D MedNIST Hand MONAI/ddpm2d_hand_model.pt\", map_location=device))"
   ]
  },
  {
   "cell_type": "code",
   "execution_count": 4,
   "id": "3cf63fbd",
   "metadata": {},
   "outputs": [],
   "source": [
    "ms_ssim = MultiScaleSSIMMetric(spatial_dims=2, data_range=1.0, kernel_size=2)\n",
    "ssim = SSIMMetric(spatial_dims=2, data_range=1.0, kernel_size=2)"
   ]
  },
  {
   "cell_type": "code",
   "execution_count": 5,
   "id": "3b6c1b7d",
   "metadata": {},
   "outputs": [
    {
     "name": "stderr",
     "output_type": "stream",
     "text": [
      "100%|██████████| 1000/1000 [05:00<00:00,  3.33it/s]\n"
     ]
    }
   ],
   "source": [
    "n_synthetic_images = 100 # Número de imágenes sintéticas que vamos a generar\n",
    "\n",
    "model.eval()\n",
    "noise = torch.randn((n_synthetic_images, 1, 32, 32))\n",
    "noise = noise.to(device)\n",
    "scheduler.set_timesteps(num_inference_steps=1000)\n",
    "with torch.no_grad():\n",
    "    syn_images = inferer.sample(input_noise=noise, diffusion_model=model, scheduler=scheduler)"
   ]
  },
  {
   "cell_type": "code",
   "execution_count": 6,
   "id": "fa3c33be",
   "metadata": {},
   "outputs": [],
   "source": [
    "# Guardamos las imágenes generadas en disco\n",
    "for i in range(n_synthetic_images):\n",
    "    plt.imsave(f\"/Users/alzorrcarri/Library/CloudStorage/Dropbox/tfm/codigo/MONAI Project/DDPM2D MedNIST Hand MONAI/metrics_images/synthetic_image_{i}.png\", syn_images[i, 0].cpu(), cmap=\"gray\")"
   ]
  },
  {
   "cell_type": "code",
   "execution_count": 10,
   "id": "dc8e2e3b",
   "metadata": {},
   "outputs": [],
   "source": [
    "ms_ssim_scores = [] # Para almacenar los valores de MS-SSIM y SSIM entre las imágenes generadas\n",
    "ssim_scores = []\n",
    "# Se calculan las métricas de calidad entre todas las combinaciones posibles de pares de imágenes generadas\n",
    "idx_pairs = list(combinations(range(n_synthetic_images), 2))\n",
    "for idx_a, idx_b in idx_pairs:\n",
    "    ms_ssim_scores.append(ms_ssim(syn_images[[idx_a]], syn_images[[idx_b]]))\n",
    "    ssim_scores.append(ssim(syn_images[[idx_a]], syn_images[[idx_b]]))"
   ]
  },
  {
   "cell_type": "code",
   "execution_count": 11,
   "id": "e66f099d",
   "metadata": {},
   "outputs": [
    {
     "name": "stdout",
     "output_type": "stream",
     "text": [
      "MS-SSIM Metric: 0.1784 +- 0.2409\n",
      "SSIM Metric: 0.1654 +- 0.1078\n"
     ]
    }
   ],
   "source": [
    "ms_ssim_scores = torch.cat(ms_ssim_scores, dim=0)\n",
    "ssim_scores = torch.cat(ssim_scores, dim=0)\n",
    "\n",
    "# Mostramos la media y la desviación estándar de los valores de MS-SSIM y SSIM\n",
    "print(f\"MS-SSIM Metric: {ms_ssim_scores.mean():.4f} +- {ms_ssim_scores.std():.4f}\")\n",
    "print(f\"SSIM Metric: {ssim_scores.mean():.4f} +- {ssim_scores.std():.4f}\")"
   ]
  },
  {
   "cell_type": "code",
   "execution_count": 34,
   "id": "bbbe91cc",
   "metadata": {},
   "outputs": [
    {
     "name": "stdout",
     "output_type": "stream",
     "text": [
      "MS-SSIM Metric (no bg): 0.2345 +- 0.2510\n",
      "SSIM Metric (no bg): 0.2049 +- 0.0836\n"
     ]
    }
   ],
   "source": [
    "# Si quitamos las imágenes con fondo de color blanco, ¿mejora el SSIM y el Ms-SSIM? Comprobémoslo\n",
    "syn_images_no_bg = []\n",
    "for i in range(n_synthetic_images):\n",
    "    if syn_images[i, 0, 0, 31] <= 0.5:\n",
    "        syn_images_no_bg.append(syn_images[i])\n",
    "syn_images_no_bg = torch.stack(syn_images_no_bg)\n",
    "\n",
    "ms_ssim_scores_no_bg = [] # Para almacenar los valores de MS-SSIM y SSIM entre las imágenes generadas sin fondo blanco\n",
    "ssim_scores_no_bg = []\n",
    "# Se calculan las métricas de calidad entre todas las combinaciones posibles de pares de imágenes generadas sin fondo blanco\n",
    "idx_pairs = list(combinations(range(len(syn_images_no_bg)), 2))\n",
    "for idx_a, idx_b in idx_pairs:\n",
    "    ms_ssim_scores_no_bg.append(ms_ssim(syn_images_no_bg[[idx_a]], syn_images_no_bg[[idx_b]]))\n",
    "    ssim_scores_no_bg.append(ssim(syn_images_no_bg[[idx_a]], syn_images_no_bg[[idx_b]]))\n",
    "\n",
    "ms_ssim_scores_no_bg = torch.cat(ms_ssim_scores_no_bg, dim=0)\n",
    "ssim_scores_no_bg = torch.cat(ssim_scores_no_bg, dim=0)\n",
    "\n",
    "# Mostramos la media y la desviación estándar de los valores de MS-SSIM y SSIM sin fondo blanco\n",
    "print(f\"MS-SSIM Metric (no bg): {ms_ssim_scores_no_bg.mean():.4f} +- {ms_ssim_scores_no_bg.std():.4f}\")\n",
    "print(f\"SSIM Metric (no bg): {ssim_scores_no_bg.mean():.4f} +- {ssim_scores_no_bg.std():.4f}\")\n",
    "\n"
   ]
  },
  {
   "cell_type": "markdown",
   "id": "ae12684b",
   "metadata": {},
   "source": [
    "## Calculando el FID para las imágenes generadas"
   ]
  },
  {
   "cell_type": "markdown",
   "id": "f9c3a492",
   "metadata": {},
   "source": [
    "### Carga de ResNet50 entrenado con RadImageNwt\n",
    "\n",
    "A la hora de calcular la métrica FID (Frechet Inception Distance) para evaluar la calidad de las imágenes generadas, necesitamos un modelo de clasificación de imágenes preentrenado. En este tutorial, utilizamos una ResNet50 preentrenada con el conjunto de datos RadImageNet. La ResNet50 se descarga del repositorio de GitHub https://github.com/Warvito/radimagenet-models/tree/main."
   ]
  },
  {
   "cell_type": "code",
   "execution_count": 12,
   "id": "bc4822b6",
   "metadata": {},
   "outputs": [
    {
     "name": "stderr",
     "output_type": "stream",
     "text": [
      "Using cache found in /Users/alzorrcarri/.cache/torch/hub/Warvito_radimagenet-models_main\n"
     ]
    },
    {
     "data": {
      "text/plain": [
       "ResNet50(\n",
       "  (conv1): Conv2d(3, 64, kernel_size=(7, 7), stride=(2, 2), padding=(3, 3))\n",
       "  (bn1): BatchNorm2d(64, eps=1.001e-05, momentum=0.01, affine=True, track_running_stats=True)\n",
       "  (relu): ReLU(inplace=True)\n",
       "  (maxpool): MaxPool2d(kernel_size=3, stride=2, padding=1, dilation=1, ceil_mode=False)\n",
       "  (layer1): Sequential(\n",
       "    (0): Bottleneck(\n",
       "      (conv1): Conv2d(64, 64, kernel_size=(1, 1), stride=(1, 1))\n",
       "      (bn1): BatchNorm2d(64, eps=1.001e-05, momentum=0.99, affine=True, track_running_stats=True)\n",
       "      (conv2): Conv2d(64, 64, kernel_size=(3, 3), stride=(1, 1), padding=(1, 1))\n",
       "      (bn2): BatchNorm2d(64, eps=1.001e-05, momentum=0.99, affine=True, track_running_stats=True)\n",
       "      (conv3): Conv2d(64, 256, kernel_size=(1, 1), stride=(1, 1))\n",
       "      (bn3): BatchNorm2d(256, eps=1.001e-05, momentum=0.99, affine=True, track_running_stats=True)\n",
       "      (relu): ReLU(inplace=True)\n",
       "      (downsample): Sequential(\n",
       "        (0): Conv2d(64, 256, kernel_size=(1, 1), stride=(1, 1))\n",
       "        (1): BatchNorm2d(256, eps=1.001e-05, momentum=0.99, affine=True, track_running_stats=True)\n",
       "      )\n",
       "    )\n",
       "    (1): Bottleneck(\n",
       "      (conv1): Conv2d(256, 64, kernel_size=(1, 1), stride=(1, 1))\n",
       "      (bn1): BatchNorm2d(64, eps=1.001e-05, momentum=0.99, affine=True, track_running_stats=True)\n",
       "      (conv2): Conv2d(64, 64, kernel_size=(3, 3), stride=(1, 1), padding=(1, 1))\n",
       "      (bn2): BatchNorm2d(64, eps=1.001e-05, momentum=0.99, affine=True, track_running_stats=True)\n",
       "      (conv3): Conv2d(64, 256, kernel_size=(1, 1), stride=(1, 1))\n",
       "      (bn3): BatchNorm2d(256, eps=1.001e-05, momentum=0.99, affine=True, track_running_stats=True)\n",
       "      (relu): ReLU(inplace=True)\n",
       "    )\n",
       "    (2): Bottleneck(\n",
       "      (conv1): Conv2d(256, 64, kernel_size=(1, 1), stride=(1, 1))\n",
       "      (bn1): BatchNorm2d(64, eps=1.001e-05, momentum=0.99, affine=True, track_running_stats=True)\n",
       "      (conv2): Conv2d(64, 64, kernel_size=(3, 3), stride=(1, 1), padding=(1, 1))\n",
       "      (bn2): BatchNorm2d(64, eps=1.001e-05, momentum=0.99, affine=True, track_running_stats=True)\n",
       "      (conv3): Conv2d(64, 256, kernel_size=(1, 1), stride=(1, 1))\n",
       "      (bn3): BatchNorm2d(256, eps=1.001e-05, momentum=0.99, affine=True, track_running_stats=True)\n",
       "      (relu): ReLU(inplace=True)\n",
       "    )\n",
       "  )\n",
       "  (layer2): Sequential(\n",
       "    (0): Bottleneck(\n",
       "      (conv1): Conv2d(256, 128, kernel_size=(1, 1), stride=(2, 2))\n",
       "      (bn1): BatchNorm2d(128, eps=1.001e-05, momentum=0.99, affine=True, track_running_stats=True)\n",
       "      (conv2): Conv2d(128, 128, kernel_size=(3, 3), stride=(1, 1), padding=(1, 1))\n",
       "      (bn2): BatchNorm2d(128, eps=1.001e-05, momentum=0.99, affine=True, track_running_stats=True)\n",
       "      (conv3): Conv2d(128, 512, kernel_size=(1, 1), stride=(1, 1))\n",
       "      (bn3): BatchNorm2d(512, eps=1.001e-05, momentum=0.99, affine=True, track_running_stats=True)\n",
       "      (relu): ReLU(inplace=True)\n",
       "      (downsample): Sequential(\n",
       "        (0): Conv2d(256, 512, kernel_size=(1, 1), stride=(2, 2))\n",
       "        (1): BatchNorm2d(512, eps=1.001e-05, momentum=0.99, affine=True, track_running_stats=True)\n",
       "      )\n",
       "    )\n",
       "    (1): Bottleneck(\n",
       "      (conv1): Conv2d(512, 128, kernel_size=(1, 1), stride=(1, 1))\n",
       "      (bn1): BatchNorm2d(128, eps=1.001e-05, momentum=0.99, affine=True, track_running_stats=True)\n",
       "      (conv2): Conv2d(128, 128, kernel_size=(3, 3), stride=(1, 1), padding=(1, 1))\n",
       "      (bn2): BatchNorm2d(128, eps=1.001e-05, momentum=0.99, affine=True, track_running_stats=True)\n",
       "      (conv3): Conv2d(128, 512, kernel_size=(1, 1), stride=(1, 1))\n",
       "      (bn3): BatchNorm2d(512, eps=1.001e-05, momentum=0.99, affine=True, track_running_stats=True)\n",
       "      (relu): ReLU(inplace=True)\n",
       "    )\n",
       "    (2): Bottleneck(\n",
       "      (conv1): Conv2d(512, 128, kernel_size=(1, 1), stride=(1, 1))\n",
       "      (bn1): BatchNorm2d(128, eps=1.001e-05, momentum=0.99, affine=True, track_running_stats=True)\n",
       "      (conv2): Conv2d(128, 128, kernel_size=(3, 3), stride=(1, 1), padding=(1, 1))\n",
       "      (bn2): BatchNorm2d(128, eps=1.001e-05, momentum=0.99, affine=True, track_running_stats=True)\n",
       "      (conv3): Conv2d(128, 512, kernel_size=(1, 1), stride=(1, 1))\n",
       "      (bn3): BatchNorm2d(512, eps=1.001e-05, momentum=0.99, affine=True, track_running_stats=True)\n",
       "      (relu): ReLU(inplace=True)\n",
       "    )\n",
       "    (3): Bottleneck(\n",
       "      (conv1): Conv2d(512, 128, kernel_size=(1, 1), stride=(1, 1))\n",
       "      (bn1): BatchNorm2d(128, eps=1.001e-05, momentum=0.99, affine=True, track_running_stats=True)\n",
       "      (conv2): Conv2d(128, 128, kernel_size=(3, 3), stride=(1, 1), padding=(1, 1))\n",
       "      (bn2): BatchNorm2d(128, eps=1.001e-05, momentum=0.99, affine=True, track_running_stats=True)\n",
       "      (conv3): Conv2d(128, 512, kernel_size=(1, 1), stride=(1, 1))\n",
       "      (bn3): BatchNorm2d(512, eps=1.001e-05, momentum=0.99, affine=True, track_running_stats=True)\n",
       "      (relu): ReLU(inplace=True)\n",
       "    )\n",
       "  )\n",
       "  (layer3): Sequential(\n",
       "    (0): Bottleneck(\n",
       "      (conv1): Conv2d(512, 256, kernel_size=(1, 1), stride=(2, 2))\n",
       "      (bn1): BatchNorm2d(256, eps=1.001e-05, momentum=0.99, affine=True, track_running_stats=True)\n",
       "      (conv2): Conv2d(256, 256, kernel_size=(3, 3), stride=(1, 1), padding=(1, 1))\n",
       "      (bn2): BatchNorm2d(256, eps=1.001e-05, momentum=0.99, affine=True, track_running_stats=True)\n",
       "      (conv3): Conv2d(256, 1024, kernel_size=(1, 1), stride=(1, 1))\n",
       "      (bn3): BatchNorm2d(1024, eps=1.001e-05, momentum=0.99, affine=True, track_running_stats=True)\n",
       "      (relu): ReLU(inplace=True)\n",
       "      (downsample): Sequential(\n",
       "        (0): Conv2d(512, 1024, kernel_size=(1, 1), stride=(2, 2))\n",
       "        (1): BatchNorm2d(1024, eps=1.001e-05, momentum=0.99, affine=True, track_running_stats=True)\n",
       "      )\n",
       "    )\n",
       "    (1): Bottleneck(\n",
       "      (conv1): Conv2d(1024, 256, kernel_size=(1, 1), stride=(1, 1))\n",
       "      (bn1): BatchNorm2d(256, eps=1.001e-05, momentum=0.99, affine=True, track_running_stats=True)\n",
       "      (conv2): Conv2d(256, 256, kernel_size=(3, 3), stride=(1, 1), padding=(1, 1))\n",
       "      (bn2): BatchNorm2d(256, eps=1.001e-05, momentum=0.99, affine=True, track_running_stats=True)\n",
       "      (conv3): Conv2d(256, 1024, kernel_size=(1, 1), stride=(1, 1))\n",
       "      (bn3): BatchNorm2d(1024, eps=1.001e-05, momentum=0.99, affine=True, track_running_stats=True)\n",
       "      (relu): ReLU(inplace=True)\n",
       "    )\n",
       "    (2): Bottleneck(\n",
       "      (conv1): Conv2d(1024, 256, kernel_size=(1, 1), stride=(1, 1))\n",
       "      (bn1): BatchNorm2d(256, eps=1.001e-05, momentum=0.99, affine=True, track_running_stats=True)\n",
       "      (conv2): Conv2d(256, 256, kernel_size=(3, 3), stride=(1, 1), padding=(1, 1))\n",
       "      (bn2): BatchNorm2d(256, eps=1.001e-05, momentum=0.99, affine=True, track_running_stats=True)\n",
       "      (conv3): Conv2d(256, 1024, kernel_size=(1, 1), stride=(1, 1))\n",
       "      (bn3): BatchNorm2d(1024, eps=1.001e-05, momentum=0.99, affine=True, track_running_stats=True)\n",
       "      (relu): ReLU(inplace=True)\n",
       "    )\n",
       "    (3): Bottleneck(\n",
       "      (conv1): Conv2d(1024, 256, kernel_size=(1, 1), stride=(1, 1))\n",
       "      (bn1): BatchNorm2d(256, eps=1.001e-05, momentum=0.99, affine=True, track_running_stats=True)\n",
       "      (conv2): Conv2d(256, 256, kernel_size=(3, 3), stride=(1, 1), padding=(1, 1))\n",
       "      (bn2): BatchNorm2d(256, eps=1.001e-05, momentum=0.99, affine=True, track_running_stats=True)\n",
       "      (conv3): Conv2d(256, 1024, kernel_size=(1, 1), stride=(1, 1))\n",
       "      (bn3): BatchNorm2d(1024, eps=1.001e-05, momentum=0.99, affine=True, track_running_stats=True)\n",
       "      (relu): ReLU(inplace=True)\n",
       "    )\n",
       "    (4): Bottleneck(\n",
       "      (conv1): Conv2d(1024, 256, kernel_size=(1, 1), stride=(1, 1))\n",
       "      (bn1): BatchNorm2d(256, eps=1.001e-05, momentum=0.99, affine=True, track_running_stats=True)\n",
       "      (conv2): Conv2d(256, 256, kernel_size=(3, 3), stride=(1, 1), padding=(1, 1))\n",
       "      (bn2): BatchNorm2d(256, eps=1.001e-05, momentum=0.99, affine=True, track_running_stats=True)\n",
       "      (conv3): Conv2d(256, 1024, kernel_size=(1, 1), stride=(1, 1))\n",
       "      (bn3): BatchNorm2d(1024, eps=1.001e-05, momentum=0.99, affine=True, track_running_stats=True)\n",
       "      (relu): ReLU(inplace=True)\n",
       "    )\n",
       "    (5): Bottleneck(\n",
       "      (conv1): Conv2d(1024, 256, kernel_size=(1, 1), stride=(1, 1))\n",
       "      (bn1): BatchNorm2d(256, eps=1.001e-05, momentum=0.99, affine=True, track_running_stats=True)\n",
       "      (conv2): Conv2d(256, 256, kernel_size=(3, 3), stride=(1, 1), padding=(1, 1))\n",
       "      (bn2): BatchNorm2d(256, eps=1.001e-05, momentum=0.99, affine=True, track_running_stats=True)\n",
       "      (conv3): Conv2d(256, 1024, kernel_size=(1, 1), stride=(1, 1))\n",
       "      (bn3): BatchNorm2d(1024, eps=1.001e-05, momentum=0.99, affine=True, track_running_stats=True)\n",
       "      (relu): ReLU(inplace=True)\n",
       "    )\n",
       "  )\n",
       "  (layer4): Sequential(\n",
       "    (0): Bottleneck(\n",
       "      (conv1): Conv2d(1024, 512, kernel_size=(1, 1), stride=(2, 2))\n",
       "      (bn1): BatchNorm2d(512, eps=1.001e-05, momentum=0.99, affine=True, track_running_stats=True)\n",
       "      (conv2): Conv2d(512, 512, kernel_size=(3, 3), stride=(1, 1), padding=(1, 1))\n",
       "      (bn2): BatchNorm2d(512, eps=1.001e-05, momentum=0.99, affine=True, track_running_stats=True)\n",
       "      (conv3): Conv2d(512, 2048, kernel_size=(1, 1), stride=(1, 1))\n",
       "      (bn3): BatchNorm2d(2048, eps=1.001e-05, momentum=0.99, affine=True, track_running_stats=True)\n",
       "      (relu): ReLU(inplace=True)\n",
       "      (downsample): Sequential(\n",
       "        (0): Conv2d(1024, 2048, kernel_size=(1, 1), stride=(2, 2))\n",
       "        (1): BatchNorm2d(2048, eps=1.001e-05, momentum=0.99, affine=True, track_running_stats=True)\n",
       "      )\n",
       "    )\n",
       "    (1): Bottleneck(\n",
       "      (conv1): Conv2d(2048, 512, kernel_size=(1, 1), stride=(1, 1))\n",
       "      (bn1): BatchNorm2d(512, eps=1.001e-05, momentum=0.99, affine=True, track_running_stats=True)\n",
       "      (conv2): Conv2d(512, 512, kernel_size=(3, 3), stride=(1, 1), padding=(1, 1))\n",
       "      (bn2): BatchNorm2d(512, eps=1.001e-05, momentum=0.99, affine=True, track_running_stats=True)\n",
       "      (conv3): Conv2d(512, 2048, kernel_size=(1, 1), stride=(1, 1))\n",
       "      (bn3): BatchNorm2d(2048, eps=1.001e-05, momentum=0.99, affine=True, track_running_stats=True)\n",
       "      (relu): ReLU(inplace=True)\n",
       "    )\n",
       "    (2): Bottleneck(\n",
       "      (conv1): Conv2d(2048, 512, kernel_size=(1, 1), stride=(1, 1))\n",
       "      (bn1): BatchNorm2d(512, eps=1.001e-05, momentum=0.99, affine=True, track_running_stats=True)\n",
       "      (conv2): Conv2d(512, 512, kernel_size=(3, 3), stride=(1, 1), padding=(1, 1))\n",
       "      (bn2): BatchNorm2d(512, eps=1.001e-05, momentum=0.99, affine=True, track_running_stats=True)\n",
       "      (conv3): Conv2d(512, 2048, kernel_size=(1, 1), stride=(1, 1))\n",
       "      (bn3): BatchNorm2d(2048, eps=1.001e-05, momentum=0.99, affine=True, track_running_stats=True)\n",
       "      (relu): ReLU(inplace=True)\n",
       "    )\n",
       "  )\n",
       ")"
      ]
     },
     "execution_count": 12,
     "metadata": {},
     "output_type": "execute_result"
    }
   ],
   "source": [
    "device = torch.device(\"mps\")\n",
    "radnet = torch.hub.load(\"Warvito/radimagenet-models\", model=\"radimagenet_resnet50\", verbose=True)\n",
    "radnet.to(device)\n",
    "radnet.eval()"
   ]
  },
  {
   "cell_type": "markdown",
   "id": "7dee0f9d",
   "metadata": {},
   "source": [
    "Las transformaciones que se definen a continuación son necesarias para transformar las imágenes de entrada de la misma manera que las imágenes se procesaron para el entrenamiento de RadImageNet. Defimos la función get_features que aplica dichas transformaciones y extrae las características de las imágenes de entrada utilizando la ResNet50 preentrenada."
   ]
  },
  {
   "cell_type": "code",
   "execution_count": 13,
   "id": "530e16ac",
   "metadata": {},
   "outputs": [],
   "source": [
    "def subtract_mean(x: torch.Tensor) -> torch.Tensor:\n",
    "    mean = [0.406, 0.456, 0.485]\n",
    "    x[:, 0, :, :] -= mean[0]\n",
    "    x[:, 1, :, :] -= mean[1]\n",
    "    x[:, 2, :, :] -= mean[2]\n",
    "    return x\n",
    "\n",
    "\n",
    "def spatial_average(x: torch.Tensor, keepdim: bool = True) -> torch.Tensor:\n",
    "    return x.mean([2, 3], keepdim=keepdim)\n",
    "\n",
    "\n",
    "def get_features(image):\n",
    "    # Si el input tiene solo un canal, repetirlo hasta que se tengan tres canales\n",
    "    if image.shape[1]:\n",
    "        image = image.repeat(1, 3, 1, 1)\n",
    "\n",
    "    # Cambiar el orden de 'RGB' a 'BGR'\n",
    "    image = image[:, [2, 1, 0], ...]\n",
    "\n",
    "    # Restar la media usada durante el entrenamiento\n",
    "    image = subtract_mean(image)\n",
    "\n",
    "    # Obtener las salidas del modelo\n",
    "    with torch.no_grad():\n",
    "        feature_image = radnet.forward(image)\n",
    "        # Aplanar la imagen espacialmente\n",
    "        feature_image = spatial_average(feature_image, keepdim=False)\n",
    "\n",
    "    return feature_image"
   ]
  },
  {
   "cell_type": "markdown",
   "id": "306fb075",
   "metadata": {},
   "source": [
    "### Obtención media y covarianza distribución imágenes reales\n",
    "\n",
    "Calculamos las características de la red ResNet50 para la distribución de las imágenes reales (imágenes de validación) para poder calcular el FID con las imágenes sampleadas durante el entrenamiento."
   ]
  },
  {
   "cell_type": "code",
   "execution_count": 21,
   "id": "ec3dff0c",
   "metadata": {},
   "outputs": [],
   "source": [
    "real_features = []\n",
    "for _, batch in enumerate(val_loader):\n",
    "    real_images = batch.to(device)\n",
    "    real_features.append(get_features(real_images))\n",
    "\n",
    "real_features = torch.vstack(real_features)"
   ]
  },
  {
   "cell_type": "markdown",
   "id": "8d8cebea",
   "metadata": {},
   "source": [
    "Ídem para las imágenes generadas."
   ]
  },
  {
   "cell_type": "code",
   "execution_count": 22,
   "id": "8fc732d4",
   "metadata": {},
   "outputs": [],
   "source": [
    "generated_features = get_features(syn_images)"
   ]
  },
  {
   "cell_type": "markdown",
   "id": "0628e07f",
   "metadata": {},
   "source": [
    "Calculamos el FID usando la implementación de dicha métrica en el repositorio [GenerativeModels](https://github.com/Project-MONAI/GenerativeModels/tree/main) del Proyecto MONAI"
   ]
  },
  {
   "cell_type": "code",
   "execution_count": 23,
   "id": "8992ce84",
   "metadata": {},
   "outputs": [
    {
     "name": "stdout",
     "output_type": "stream",
     "text": [
      "FID Score: 5.9603\n"
     ]
    }
   ],
   "source": [
    "fid = FIDMetric()\n",
    "fid_score = fid(real_features.cpu(), generated_features.cpu())\n",
    "print(f\"FID Score: {fid_score:.4f}\")"
   ]
  }
 ],
 "metadata": {
  "jupytext": {
   "formats": "ipynb,py:percent"
  },
  "kernelspec": {
   "display_name": "Python 3 (ipykernel)",
   "language": "python",
   "name": "python3"
  },
  "language_info": {
   "codemirror_mode": {
    "name": "ipython",
    "version": 3
   },
   "file_extension": ".py",
   "mimetype": "text/x-python",
   "name": "python",
   "nbconvert_exporter": "python",
   "pygments_lexer": "ipython3",
   "version": "3.12.4"
  }
 },
 "nbformat": 4,
 "nbformat_minor": 5
}
