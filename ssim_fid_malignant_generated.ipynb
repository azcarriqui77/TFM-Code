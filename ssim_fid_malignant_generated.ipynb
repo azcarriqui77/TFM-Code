{
 "cells": [
  {
   "cell_type": "markdown",
   "metadata": {},
   "source": [
    "# Métricas de evaluación de la calidad de las imágenes de lesiones malignas generadas: SSIM y FID\n",
    "\n",
    "En este notebook calculamos los valores de dos métricas de evaluación de la calidad para las imágenes de tipo maligno generadas por el modelo de difusión del melanoma de piel. Las métricas son el Similarity Structural Index (SSIM) y el Frechet Inception Distance (FID). Usamos la implementación de métricas de la librería `monai-generative` del [MONAI Project](https://github.com/Project-MONAI)."
   ]
  },
  {
   "cell_type": "markdown",
   "metadata": {},
   "source": [
    "## Librerías necesarias"
   ]
  },
  {
   "cell_type": "code",
   "execution_count": 1,
   "metadata": {},
   "outputs": [],
   "source": [
    "import os\n",
    "from itertools import combinations\n",
    "\n",
    "import matplotlib.pyplot as plt\n",
    "import numpy as np\n",
    "\n",
    "import torch\n",
    "import torch.nn as nn\n",
    "import torch.nn.functional as F\n",
    "from torchvision import models\n",
    "from torchvision.models import ResNet50_Weights\n",
    "from torch.cuda.amp import autocast\n",
    "\n",
    "from generative.inferers import DiffusionInferer\n",
    "from generative.networks.nets import DiffusionModelUNet\n",
    "from generative.networks.schedulers import DDPMScheduler\n",
    "\n",
    "from generative.metrics import MultiScaleSSIMMetric, SSIMMetric\n",
    "from generative.metrics import FIDMetric"
   ]
  },
  {
   "cell_type": "markdown",
   "metadata": {},
   "source": [
    "## Parámetros"
   ]
  },
  {
   "cell_type": "code",
   "execution_count": 2,
   "metadata": {},
   "outputs": [],
   "source": [
    "IMAGE_SIZE = 64\n",
    "PIC_CHANNELS = 3\n",
    "PIC_DIMENSION = 2\n",
    "device = torch.device(\"cuda\" if torch.cuda.is_available() else \"mps\")"
   ]
  },
  {
   "cell_type": "markdown",
   "metadata": {},
   "source": [
    "## Carga del modelo generador y sampleado de imágenes\n",
    "\n",
    "Cargamos el modelo de difusión DDPM bidimensional ya entrenado, para que genere imágenes de lesiones de piel malignas (melanoma)."
   ]
  },
  {
   "cell_type": "code",
   "execution_count": 3,
   "metadata": {},
   "outputs": [],
   "source": [
    "model = DiffusionModelUNet(\n",
    "    spatial_dims=2,\n",
    "    in_channels=3,\n",
    "    out_channels=3,\n",
    "    num_channels=(64, 128, 256, 256),\n",
    "    attention_levels=(False, False, True, True),\n",
    "    num_res_blocks=1,\n",
    "    num_head_channels=256\n",
    ")\n",
    "model.to(device)\n",
    "\n",
    "model.load_state_dict(torch.load('/Users/alzorrcarri/Library/CloudStorage/Dropbox/tfm/codigo/MONAI Project/DDPM ISIC MONAI/prueba1/ddpm2d_hand_model.pt', map_location=device))\n",
    "\n",
    "scheduler = DDPMScheduler(num_train_timesteps=1000)\n",
    "\n",
    "inferer = DiffusionInferer(scheduler)"
   ]
  },
  {
   "cell_type": "markdown",
   "metadata": {},
   "source": [
    "### Generación de imágenes\n",
    "\n",
    "Sampleamos imágenes usando el modelo generativo cargado anteriomente."
   ]
  },
  {
   "cell_type": "code",
   "execution_count": 4,
   "metadata": {},
   "outputs": [
    {
     "name": "stderr",
     "output_type": "stream",
     "text": [
      "/opt/anaconda3/envs/tfm/lib/python3.12/site-packages/torch/amp/autocast_mode.py:250: UserWarning: User provided device_type of 'cuda', but CUDA is not available. Disabling\n",
      "  warnings.warn(\n",
      "100%|██████████| 1000/1000 [00:35<00:00, 27.84it/s]\n",
      "100%|██████████| 1000/1000 [00:34<00:00, 28.98it/s]\n",
      "100%|██████████| 1000/1000 [00:34<00:00, 29.05it/s]\n",
      "100%|██████████| 1000/1000 [00:33<00:00, 29.77it/s]\n",
      "100%|██████████| 1000/1000 [00:34<00:00, 28.96it/s]\n",
      "100%|██████████| 1000/1000 [00:34<00:00, 29.11it/s]\n",
      "100%|██████████| 1000/1000 [00:34<00:00, 28.83it/s]\n",
      "100%|██████████| 1000/1000 [00:36<00:00, 27.67it/s]\n",
      "100%|██████████| 1000/1000 [00:33<00:00, 29.76it/s]\n",
      "100%|██████████| 1000/1000 [00:33<00:00, 29.71it/s]\n",
      "100%|██████████| 1000/1000 [00:34<00:00, 29.22it/s]\n",
      "100%|██████████| 1000/1000 [00:33<00:00, 29.66it/s]\n",
      "100%|██████████| 1000/1000 [00:33<00:00, 29.62it/s]\n",
      "100%|██████████| 1000/1000 [00:33<00:00, 29.56it/s]\n",
      "100%|██████████| 1000/1000 [00:33<00:00, 29.62it/s]\n",
      "100%|██████████| 1000/1000 [00:33<00:00, 29.50it/s]\n",
      "100%|██████████| 1000/1000 [00:33<00:00, 29.43it/s]\n",
      "100%|██████████| 1000/1000 [00:33<00:00, 29.52it/s]\n",
      "100%|██████████| 1000/1000 [00:33<00:00, 29.50it/s]\n",
      "100%|██████████| 1000/1000 [00:33<00:00, 29.50it/s]\n",
      "100%|██████████| 1000/1000 [00:33<00:00, 29.55it/s]\n",
      "100%|██████████| 1000/1000 [00:33<00:00, 29.42it/s]\n",
      "100%|██████████| 1000/1000 [00:33<00:00, 29.48it/s]\n",
      "100%|██████████| 1000/1000 [00:33<00:00, 29.42it/s]\n",
      "100%|██████████| 1000/1000 [00:33<00:00, 29.60it/s]\n",
      "100%|██████████| 1000/1000 [00:33<00:00, 29.52it/s]\n",
      "100%|██████████| 1000/1000 [00:33<00:00, 29.53it/s]\n",
      "100%|██████████| 1000/1000 [00:33<00:00, 29.66it/s]\n",
      "100%|██████████| 1000/1000 [00:33<00:00, 29.68it/s]\n",
      "100%|██████████| 1000/1000 [00:33<00:00, 29.89it/s]\n",
      "100%|██████████| 1000/1000 [00:33<00:00, 29.84it/s]\n",
      "100%|██████████| 1000/1000 [00:33<00:00, 29.91it/s]\n",
      "100%|██████████| 1000/1000 [00:33<00:00, 29.77it/s]\n",
      "100%|██████████| 1000/1000 [00:33<00:00, 30.01it/s]\n",
      "100%|██████████| 1000/1000 [00:33<00:00, 29.88it/s]\n",
      "100%|██████████| 1000/1000 [00:33<00:00, 30.09it/s]\n",
      "100%|██████████| 1000/1000 [00:33<00:00, 29.89it/s]\n",
      "100%|██████████| 1000/1000 [00:33<00:00, 29.84it/s]\n",
      "100%|██████████| 1000/1000 [00:33<00:00, 29.81it/s]\n",
      "100%|██████████| 1000/1000 [00:33<00:00, 29.86it/s]\n"
     ]
    }
   ],
   "source": [
    "model.eval()\n",
    "generated_images = []\n",
    "for i in range(100):\n",
    "    n_synthetic_images = 5\n",
    "    noise = torch.randn((n_synthetic_images, 3, IMAGE_SIZE, IMAGE_SIZE))\n",
    "    noise = noise.to(device)\n",
    "    scheduler.set_timesteps(num_inference_steps=1000)\n",
    "    with autocast(enabled=True):\n",
    "        syn_images = inferer.sample(input_noise=noise, diffusion_model=model, scheduler=scheduler)\n",
    "    generated_images.append(syn_images)\n",
    "\n",
    "syn_images = torch.cat(generated_images, dim=0)"
   ]
  },
  {
   "cell_type": "markdown",
   "metadata": {},
   "source": [
    "Mostramos las cinco primeras imágenes generadas de cada tipo."
   ]
  },
  {
   "cell_type": "code",
   "execution_count": 6,
   "metadata": {},
   "outputs": [
    {
     "data": {
      "image/png": "[encoded data removed]",
      "text/plain": [
       "<Figure size 640x480 with 1 Axes>"
      ]
     },
     "metadata": {},
     "output_type": "display_data"
    }
   ],
   "source": [
    "# Asumiendo que syn_images[0] es tu imagen de entrada\n",
    "imagen = syn_images[0].cpu().permute(2, 1, 0).detach().numpy()\n",
    "\n",
    "# Normalizar la imagen al rango [0, 1] para datos de tipo float\n",
    "imagen_norm = (imagen - np.min(imagen)) / (np.max(imagen) - np.min(imagen))\n",
    "\n",
    "plt.imshow(imagen_norm)\n",
    "plt.axis(\"off\")\n",
    "plt.tight_layout()\n",
    "plt.show()"
   ]
  },
  {
   "cell_type": "code",
   "execution_count": 7,
   "metadata": {},
   "outputs": [],
   "source": [
    "# Guardamos las imágenes generadas en un directorio\n",
    "os.makedirs(\"synthetic_images\", exist_ok=True)\n",
    "for i, syn_image in enumerate(syn_images):\n",
    "    syn_image = syn_image.cpu().permute(2, 1, 0).detach().numpy()\n",
    "    syn_image = (syn_image - np.min(syn_image)) / (np.max(syn_image) - np.min(syn_image))\n",
    "    plt.imsave(f\"synthetic_images/synthetic_image_{i}.jpg\", syn_image)"
   ]
  },
  {
   "cell_type": "markdown",
   "metadata": {},
   "source": [
    "## Carga de las imágenes de entrenamiento (datos reales)"
   ]
  },
  {
   "cell_type": "markdown",
   "metadata": {},
   "source": [
    "Cargamos las imágenes de entrenamiento de melanoma y hacemos las transformaciones necesarias para adaptarlas a las entradas de las redes preentrenadas."
   ]
  },
  {
   "cell_type": "code",
   "execution_count": 3,
   "metadata": {},
   "outputs": [],
   "source": [
    "# DATA_DIR = '/Users/alzorrcarri/skin_lesion_training_images'\n",
    "DATA_DIR = r\"D:\\alzor\\Documents\\Dropbox\\tfm\\codigo\\Métricas de evaluación\\malignant\\skin_lesion_training_images\"\n",
    "\n",
    "train_images = []\n",
    "name_files = os.listdir(DATA_DIR)\n",
    "\n",
    "for file in name_files:\n",
    "    if file.endswith('.jpg'):\n",
    "        image = os.path.join(DATA_DIR, file)\n",
    "        image = torch.tensor(plt.imread(image), dtype=torch.float32)\n",
    "        image = torch.transpose(image, 0, 2)\n",
    "        train_images.append(image/255.0)"
   ]
  },
  {
   "cell_type": "code",
   "execution_count": 4,
   "metadata": {},
   "outputs": [],
   "source": [
    "train_loader = torch.utils.data.DataLoader(train_images, batch_size=2, shuffle=True)"
   ]
  },
  {
   "cell_type": "markdown",
   "metadata": {},
   "source": [
    "## Carga de las imágenes sintética generadas por el modelo"
   ]
  },
  {
   "cell_type": "markdown",
   "metadata": {},
   "source": [
    "Cargamos las imágenes de melanoma de piel generadas anteriormente por el modelo DDPM."
   ]
  },
  {
   "cell_type": "code",
   "execution_count": 5,
   "metadata": {},
   "outputs": [],
   "source": [
    "# DATA_DIR = '/Users/alzorrcarri/Library/CloudStorage/Dropbox/tfm/codigo/Métricas de evaluación/synthetic_images'\n",
    "DATA_DIR = r\"D:\\alzor\\Documents\\Dropbox\\tfm\\codigo\\Métricas de evaluación\\malignant\\synthetic_images\"\n",
    "\n",
    "syn_images = []\n",
    "name_files = os.listdir(DATA_DIR)\n",
    "\n",
    "for file in name_files:\n",
    "    if file.endswith('.jpg'):\n",
    "        image = os.path.join(DATA_DIR, file)\n",
    "        image = torch.tensor(plt.imread(image), dtype=torch.float32)\n",
    "        image = torch.transpose(image, 0, 2)\n",
    "        syn_images.append(image/255.0)"
   ]
  },
  {
   "cell_type": "code",
   "execution_count": 6,
   "metadata": {},
   "outputs": [],
   "source": [
    "syn_loader = torch.utils.data.DataLoader(syn_images, batch_size=2, shuffle=True)"
   ]
  },
  {
   "cell_type": "code",
   "execution_count": 7,
   "metadata": {},
   "outputs": [
    {
     "data": {
      "text/plain": [
       "(5768, 500)"
      ]
     },
     "execution_count": 7,
     "metadata": {},
     "output_type": "execute_result"
    }
   ],
   "source": [
    "len(train_images), len(syn_images)"
   ]
  },
  {
   "cell_type": "code",
   "execution_count": 8,
   "metadata": {},
   "outputs": [
    {
     "data": {
      "text/plain": [
       "<matplotlib.image.AxesImage at 0x177a11af0>"
      ]
     },
     "execution_count": 8,
     "metadata": {},
     "output_type": "execute_result"
    },
    {
     "data": {
      "image/png": "[encoded data removed]",
      "text/plain": [
       "<Figure size 640x480 with 1 Axes>"
      ]
     },
     "metadata": {},
     "output_type": "display_data"
    }
   ],
   "source": [
    "plt.imshow(train_images[0].permute(2, 1, 0))"
   ]
  },
  {
   "cell_type": "code",
   "execution_count": 9,
   "metadata": {},
   "outputs": [
    {
     "data": {
      "text/plain": [
       "<matplotlib.image.AxesImage at 0x316574980>"
      ]
     },
     "execution_count": 9,
     "metadata": {},
     "output_type": "execute_result"
    },
    {
     "data": {
      "image/png": "[encoded data removed]",
      "text/plain": [
       "<Figure size 640x480 with 1 Axes>"
      ]
     },
     "metadata": {},
     "output_type": "display_data"
    }
   ],
   "source": [
    "plt.imshow(syn_images[0].permute(2, 1, 0))"
   ]
  },
  {
   "cell_type": "markdown",
   "metadata": {},
   "source": [
    "## Cálculo del SSIM y MS-SSIM\n",
    "\n",
    "Calculamos el SSIM y MS-SSIM para cada uno de los tipos de imágenes reales y sintéticas. Esto lo haremos calculando dichas métricas para cada par de imágenes generadas y obteniendo el promedio de los valores obtenidos."
   ]
  },
  {
   "cell_type": "markdown",
   "metadata": {},
   "source": [
    "### Para el conjunto de imágenes sintéticas"
   ]
  },
  {
   "cell_type": "code",
   "execution_count": 10,
   "metadata": {},
   "outputs": [],
   "source": [
    "ms_ssim_scores = [] # Para almacenar los valores de MS-SSIM y SSIM entre las imágenes generadas\n",
    "ssim_scores = []\n",
    "\n",
    "ms_ssim = MultiScaleSSIMMetric(spatial_dims=2, data_range=1.0, kernel_size=2)\n",
    "ssim = SSIMMetric(spatial_dims=2, data_range=1.0, kernel_size=2)"
   ]
  },
  {
   "cell_type": "code",
   "execution_count": 11,
   "metadata": {},
   "outputs": [],
   "source": [
    "gen_images = torch.stack(syn_images).to(device)"
   ]
  },
  {
   "cell_type": "code",
   "execution_count": 18,
   "metadata": {},
   "outputs": [
    {
     "data": {
      "text/plain": [
       "torch.Size([500, 3, 64, 64])"
      ]
     },
     "execution_count": 18,
     "metadata": {},
     "output_type": "execute_result"
    }
   ],
   "source": [
    "gen_images.shape"
   ]
  },
  {
   "cell_type": "code",
   "execution_count": 12,
   "metadata": {},
   "outputs": [],
   "source": [
    "# Se calculan el SSIM y el MS-SSIM entre todas las combinaciones posibles de pares de imágenes generadas\n",
    "idx_pairs = list(combinations(range(len(gen_images)), 2))\n",
    "for idx_a, idx_b in idx_pairs:\n",
    "    ms_ssim_scores.append(ms_ssim(gen_images[[idx_a]], gen_images[[idx_b]]))\n",
    "    ssim_scores.append(ssim(gen_images[[idx_a]], gen_images[[idx_b]]))\n",
    "\n",
    "ms_ssim_scores = torch.cat(ms_ssim_scores, dim=0)\n",
    "ssim_scores = torch.cat(ssim_scores, dim=0)"
   ]
  },
  {
   "cell_type": "code",
   "execution_count": 13,
   "metadata": {},
   "outputs": [
    {
     "name": "stdout",
     "output_type": "stream",
     "text": [
      "MS-SSIM Metric: 0.3381 +- 0.2148\n",
      "SSIM Metric: 0.5021 +- 0.1056\n"
     ]
    }
   ],
   "source": [
    "# Mostramos la media y la desviación estándar de los valores de MS-SSIM y SSIM\n",
    "print(f\"MS-SSIM Metric: {ms_ssim_scores.mean():.4f} +- {ms_ssim_scores.std():.4f}\")\n",
    "print(f\"SSIM Metric: {ssim_scores.mean():.4f} +- {ssim_scores.std():.4f}\")"
   ]
  },
  {
   "cell_type": "markdown",
   "metadata": {},
   "source": [
    "### Para el conjunto de imágenes reales"
   ]
  },
  {
   "cell_type": "code",
   "execution_count": 15,
   "metadata": {},
   "outputs": [],
   "source": [
    "ms_ssim_scores = [] # Para almacenar los valores de MS-SSIM y SSIM entre las imágenes generadas\n",
    "ssim_scores = []\n",
    "\n",
    "ms_ssim = MultiScaleSSIMMetric(spatial_dims=2, data_range=1.0, kernel_size=2)\n",
    "ssim = SSIMMetric(spatial_dims=2, data_range=1.0, kernel_size=2)"
   ]
  },
  {
   "cell_type": "code",
   "execution_count": 16,
   "metadata": {},
   "outputs": [],
   "source": [
    "real_images = torch.stack(train_images[0:500]).to(device)"
   ]
  },
  {
   "cell_type": "code",
   "execution_count": 17,
   "metadata": {},
   "outputs": [
    {
     "data": {
      "text/plain": [
       "torch.Size([500, 3, 64, 64])"
      ]
     },
     "execution_count": 17,
     "metadata": {},
     "output_type": "execute_result"
    }
   ],
   "source": [
    "real_images.shape"
   ]
  },
  {
   "cell_type": "code",
   "execution_count": 19,
   "metadata": {},
   "outputs": [],
   "source": [
    "# Se calculan el SSIM y el MS-SSIM entre todas las combinaciones posibles de pares de imágenes generadas\n",
    "idx_pairs = list(combinations(range(len(real_images)), 2))\n",
    "for idx_a, idx_b in idx_pairs:\n",
    "    ms_ssim_scores.append(ms_ssim(real_images[[idx_a]], real_images[[idx_b]]))\n",
    "    ssim_scores.append(ssim(real_images[[idx_a]], real_images[[idx_b]]))\n",
    "\n",
    "ms_ssim_scores = torch.cat(ms_ssim_scores, dim=0)\n",
    "ssim_scores = torch.cat(ssim_scores, dim=0)"
   ]
  },
  {
   "cell_type": "code",
   "execution_count": 20,
   "metadata": {},
   "outputs": [
    {
     "name": "stdout",
     "output_type": "stream",
     "text": [
      "MS-SSIM Metric: 0.2327 +- 0.1901\n",
      "SSIM Metric: 0.4191 +- 0.1628\n"
     ]
    }
   ],
   "source": [
    "# Mostramos la media y la desviación estándar de los valores de MS-SSIM y SSIM\n",
    "print(f\"MS-SSIM Metric: {ms_ssim_scores.mean():.4f} +- {ms_ssim_scores.std():.4f}\")\n",
    "print(f\"SSIM Metric: {ssim_scores.mean():.4f} +- {ssim_scores.std():.4f}\")"
   ]
  },
  {
   "cell_type": "markdown",
   "metadata": {},
   "source": [
    "## Cálculo del FID\n",
    "\n",
    "Calculamos el FID para el conjunto de imágenes generadas, comparando la distribución de características de dichas imágenes con las de un marco de referencia, que denominaremos como reales, que se obtiene del conjunto de imágenes de entrenamiento de ISIC usadas para los DDPM.\n",
    "\n",
    "Las características de las imágenes se obtienen a través de una red neuronal preentrenada. En este caso, usaremos tres arquitecturas distintas: U-Net, ResNet50 y SkinLesNet."
   ]
  },
  {
   "cell_type": "markdown",
   "metadata": {},
   "source": [
    "### Cálculo del FID con U-Net"
   ]
  },
  {
   "cell_type": "markdown",
   "metadata": {},
   "source": [
    "1. Cargamos la red preentrenada U-Net."
   ]
  },
  {
   "cell_type": "code",
   "execution_count": 8,
   "metadata": {},
   "outputs": [],
   "source": [
    "class DoubleConv(nn.Module):\n",
    "    def __init__(self, in_channels, out_channels, with_bn=False):\n",
    "        super().__init__()\n",
    "        if with_bn:\n",
    "            self.step = nn.Sequential(\n",
    "                nn.Conv2d(in_channels, out_channels, kernel_size=3, padding=1),\n",
    "                nn.BatchNorm2d(out_channels),\n",
    "                nn.ReLU(),\n",
    "                nn.Conv2d(out_channels, out_channels, kernel_size=3, padding=1),\n",
    "                nn.BatchNorm2d(out_channels),\n",
    "                nn.ReLU(),\n",
    "            )\n",
    "        else:\n",
    "            self.step = nn.Sequential(\n",
    "                nn.Conv2d(in_channels, out_channels, kernel_size=3, padding=1),\n",
    "                nn.ReLU(),\n",
    "                nn.Conv2d(out_channels, out_channels, kernel_size=3, padding=1),\n",
    "                nn.ReLU(),\n",
    "            )\n",
    "        \n",
    "    def forward(self, x):\n",
    "        return self.step(x)\n",
    "\n",
    "\n",
    "class UNet(nn.Module):\n",
    "    def __init__(self, in_channels, out_channels, with_bn=False):\n",
    "        super().__init__()\n",
    "        init_channels = 32\n",
    "        self.out_channels = out_channels\n",
    "\n",
    "        self.en_1 = DoubleConv(in_channels    , init_channels  , with_bn)\n",
    "        self.en_2 = DoubleConv(1*init_channels, 2*init_channels, with_bn)\n",
    "        self.en_3 = DoubleConv(2*init_channels, 4*init_channels, with_bn)\n",
    "        self.en_4 = DoubleConv(4*init_channels, 8*init_channels, with_bn)\n",
    "        \n",
    "        self.de_1 = DoubleConv((4 + 8)*init_channels, 4*init_channels, with_bn)\n",
    "        self.de_2 = DoubleConv((2 + 4)*init_channels, 2*init_channels, with_bn)\n",
    "        self.de_3 = DoubleConv((1 + 2)*init_channels, 1*init_channels, with_bn)\n",
    "        self.de_4 = nn.Conv2d(init_channels, out_channels, 1)\n",
    "        \n",
    "        self.maxpool = nn.MaxPool2d(kernel_size=2)\n",
    "        self.upsample = nn.Upsample(scale_factor=2, mode='bilinear')\n",
    "    \n",
    "    def forward(self, x):\n",
    "        e1 = self.en_1(x)\n",
    "        e2 = self.en_2(self.maxpool(e1))\n",
    "        e3 = self.en_3(self.maxpool(e2))\n",
    "        e4 = self.en_4(self.maxpool(e3))\n",
    "        \n",
    "        d1 = self.de_1(torch.cat([self.upsample(e4), e3], dim=1))\n",
    "        d2 = self.de_2(torch.cat([self.upsample(d1), e2], dim=1))\n",
    "        d3 = self.de_3(torch.cat([self.upsample(d2), e1], dim=1))\n",
    "        d4 = self.de_4(d3)\n",
    "\n",
    "        if self.out_channels<2:\n",
    "            return torch.sigmoid(d4)\n",
    "        else:\n",
    "            return torch.softmax(d4, 1)            "
   ]
  },
  {
   "cell_type": "code",
   "execution_count": 9,
   "metadata": {},
   "outputs": [
    {
     "data": {
      "text/plain": [
       "<All keys matched successfully>"
      ]
     },
     "execution_count": 9,
     "metadata": {},
     "output_type": "execute_result"
    }
   ],
   "source": [
    "unet_original = UNet(3, 1, with_bn=True)\n",
    "unet_original.load_state_dict(torch.load(os.path.join('/Users/alzorrcarri/Library/CloudStorage/Dropbox/tfm/codigo/Redes/unet', 'unet_ISIC2016_trained.pth'), map_location=device))"
   ]
  },
  {
   "cell_type": "markdown",
   "metadata": {},
   "source": [
    "2. Creamos el extractor de características a partir de la red U-Net anterior quedándonos solo con el *Encoder* de la misma. Copiamos los valores de los parámetros para esta nueva red de la anterior."
   ]
  },
  {
   "cell_type": "code",
   "execution_count": 10,
   "metadata": {},
   "outputs": [],
   "source": [
    "class UNet_featextr(nn.Module):\n",
    "    def __init__(self, in_channels, out_channels, with_bn=False):\n",
    "        super().__init__()\n",
    "        init_channels = 32\n",
    "        self.out_channels = out_channels\n",
    "\n",
    "        self.en_1 = DoubleConv(in_channels    , init_channels  , with_bn)\n",
    "        self.en_2 = DoubleConv(1*init_channels, 2*init_channels, with_bn)\n",
    "        self.en_3 = DoubleConv(2*init_channels, 4*init_channels, with_bn)\n",
    "        self.en_4 = DoubleConv(4*init_channels, 8*init_channels, with_bn)\n",
    "        \n",
    "        self.maxpool = nn.MaxPool2d(kernel_size=2)\n",
    "        self.flatten = nn.Flatten()\n",
    "    \n",
    "    def forward(self, x):\n",
    "        e1 = self.en_1(x)\n",
    "        e2 = self.en_2(self.maxpool(e1))\n",
    "        e3 = self.en_3(self.maxpool(e2))\n",
    "        e4 = self.en_4(self.maxpool(e3))\n",
    "        \n",
    "        return self.flatten(e4)  "
   ]
  },
  {
   "cell_type": "code",
   "execution_count": 11,
   "metadata": {},
   "outputs": [
    {
     "data": {
      "text/plain": [
       "UNet_featextr(\n",
       "  (en_1): DoubleConv(\n",
       "    (step): Sequential(\n",
       "      (0): Conv2d(3, 32, kernel_size=(3, 3), stride=(1, 1), padding=(1, 1))\n",
       "      (1): BatchNorm2d(32, eps=1e-05, momentum=0.1, affine=True, track_running_stats=True)\n",
       "      (2): ReLU()\n",
       "      (3): Conv2d(32, 32, kernel_size=(3, 3), stride=(1, 1), padding=(1, 1))\n",
       "      (4): BatchNorm2d(32, eps=1e-05, momentum=0.1, affine=True, track_running_stats=True)\n",
       "      (5): ReLU()\n",
       "    )\n",
       "  )\n",
       "  (en_2): DoubleConv(\n",
       "    (step): Sequential(\n",
       "      (0): Conv2d(32, 64, kernel_size=(3, 3), stride=(1, 1), padding=(1, 1))\n",
       "      (1): BatchNorm2d(64, eps=1e-05, momentum=0.1, affine=True, track_running_stats=True)\n",
       "      (2): ReLU()\n",
       "      (3): Conv2d(64, 64, kernel_size=(3, 3), stride=(1, 1), padding=(1, 1))\n",
       "      (4): BatchNorm2d(64, eps=1e-05, momentum=0.1, affine=True, track_running_stats=True)\n",
       "      (5): ReLU()\n",
       "    )\n",
       "  )\n",
       "  (en_3): DoubleConv(\n",
       "    (step): Sequential(\n",
       "      (0): Conv2d(64, 128, kernel_size=(3, 3), stride=(1, 1), padding=(1, 1))\n",
       "      (1): BatchNorm2d(128, eps=1e-05, momentum=0.1, affine=True, track_running_stats=True)\n",
       "      (2): ReLU()\n",
       "      (3): Conv2d(128, 128, kernel_size=(3, 3), stride=(1, 1), padding=(1, 1))\n",
       "      (4): BatchNorm2d(128, eps=1e-05, momentum=0.1, affine=True, track_running_stats=True)\n",
       "      (5): ReLU()\n",
       "    )\n",
       "  )\n",
       "  (en_4): DoubleConv(\n",
       "    (step): Sequential(\n",
       "      (0): Conv2d(128, 256, kernel_size=(3, 3), stride=(1, 1), padding=(1, 1))\n",
       "      (1): BatchNorm2d(256, eps=1e-05, momentum=0.1, affine=True, track_running_stats=True)\n",
       "      (2): ReLU()\n",
       "      (3): Conv2d(256, 256, kernel_size=(3, 3), stride=(1, 1), padding=(1, 1))\n",
       "      (4): BatchNorm2d(256, eps=1e-05, momentum=0.1, affine=True, track_running_stats=True)\n",
       "      (5): ReLU()\n",
       "    )\n",
       "  )\n",
       "  (maxpool): MaxPool2d(kernel_size=2, stride=2, padding=0, dilation=1, ceil_mode=False)\n",
       "  (flatten): Flatten(start_dim=1, end_dim=-1)\n",
       ")"
      ]
     },
     "execution_count": 11,
     "metadata": {},
     "output_type": "execute_result"
    }
   ],
   "source": [
    "unet_featextr = UNet_featextr(3, 1, with_bn=True)\n",
    "\n",
    "# Cargamos los pesos del Encoder modelo pre-entrenado en el nuevo modelo\n",
    "unet_featextr.en_1.load_state_dict(unet_original.en_1.state_dict())\n",
    "unet_featextr.en_2.load_state_dict(unet_original.en_2.state_dict())\n",
    "unet_featextr.en_3.load_state_dict(unet_original.en_3.state_dict())\n",
    "unet_featextr.en_4.load_state_dict(unet_original.en_4.state_dict())\n",
    "\n",
    "unet_featextr.to(device)\n",
    "unet_featextr.eval()"
   ]
  },
  {
   "cell_type": "code",
   "execution_count": 12,
   "metadata": {},
   "outputs": [],
   "source": [
    "del unet_original\n",
    "torch.mps.empty_cache()"
   ]
  },
  {
   "cell_type": "markdown",
   "metadata": {},
   "source": [
    "3. Calculamos las características para cada una de las imágenes de train y sintéticas para la clase melanoma (`malignant`)"
   ]
  },
  {
   "cell_type": "code",
   "execution_count": 13,
   "metadata": {},
   "outputs": [],
   "source": [
    "real_features = []\n",
    "with torch.no_grad():\n",
    "    for step, batch in enumerate(train_loader):\n",
    "        real_images = batch.to(device)\n",
    "        output = unet_featextr(real_images).to(torch.device('cpu'))\n",
    "        real_features.append(output)\n",
    "\n",
    "real_features = torch.vstack(real_features).float()"
   ]
  },
  {
   "cell_type": "code",
   "execution_count": 14,
   "metadata": {},
   "outputs": [],
   "source": [
    "synth_features = []\n",
    "with torch.no_grad():\n",
    "    for step, batch in enumerate(syn_loader):\n",
    "        syn_images = batch.to(device)\n",
    "        output = unet_featextr(syn_images).to(torch.device(\"cpu\"))\n",
    "        synth_features.append(output)\n",
    "\n",
    "synth_features = torch.vstack(synth_features).float()"
   ]
  },
  {
   "cell_type": "code",
   "execution_count": 15,
   "metadata": {},
   "outputs": [
    {
     "data": {
      "text/plain": [
       "(torch.Size([500, 16384]), torch.Size([5768, 16384]))"
      ]
     },
     "execution_count": 15,
     "metadata": {},
     "output_type": "execute_result"
    }
   ],
   "source": [
    "synth_features.shape, real_features.shape"
   ]
  },
  {
   "cell_type": "markdown",
   "metadata": {},
   "source": [
    "4. Calculamos el FID"
   ]
  },
  {
   "cell_type": "code",
   "execution_count": 17,
   "metadata": {},
   "outputs": [
    {
     "name": "stdout",
     "output_type": "stream",
     "text": [
      "FID Score: 2350.8118\n"
     ]
    }
   ],
   "source": [
    "fid = FIDMetric()\n",
    "fid_res = fid(synth_features, real_features)\n",
    "\n",
    "print(f\"FID Score: {fid_res.item():.4f}\")"
   ]
  },
  {
   "cell_type": "markdown",
   "metadata": {},
   "source": [
    "### Cálculo del FID con SkinLesNet"
   ]
  },
  {
   "cell_type": "markdown",
   "metadata": {},
   "source": [
    "Repetimos los pasos anteriores, pero esta vez con la arquitectura de red SkinLesNet."
   ]
  },
  {
   "cell_type": "code",
   "execution_count": 8,
   "metadata": {},
   "outputs": [],
   "source": [
    "class SkinLesNet(nn.Module):\n",
    "    def __init__(self, IMAGE_SIZE):\n",
    "        super(SkinLesNet, self).__init__()\n",
    "        # 1st Convolutional Input Layer\n",
    "        self.conv1 = nn.Conv2d(in_channels=3, out_channels=32, kernel_size=3, padding=1)\n",
    "        self.pool = nn.MaxPool2d(kernel_size=2, stride=2)\n",
    "        \n",
    "        # 2nd Convolutional Input Layer\n",
    "        self.conv2 = nn.Conv2d(in_channels=32, out_channels=64, kernel_size=3, padding=1)\n",
    "        \n",
    "        # 3rd Convolutional Layer\n",
    "        self.conv3 = nn.Conv2d(in_channels=64, out_channels=64, kernel_size=3, padding=1)\n",
    "        \n",
    "        # 4th Convolutional Layer\n",
    "        self.conv4 = nn.Conv2d(in_channels=64, out_channels=128, kernel_size=3, padding=1)\n",
    "        \n",
    "        self.dropout1 = nn.Dropout(0.5)\n",
    "        \n",
    "        # Fully connected layers\n",
    "        self.fc1 = nn.Linear(128 * (IMAGE_SIZE // 16) * (IMAGE_SIZE // 16), 64)  # Adjusting for downsampling\n",
    "        self.dropout2 = nn.Dropout(0.3)\n",
    "        self.fc2 = nn.Linear(64, 2)\n",
    "    \n",
    "    def forward(self, x):\n",
    "        x = F.relu(self.conv1(x))\n",
    "        x = self.pool(x)\n",
    "        \n",
    "        x = F.relu(self.conv2(x))\n",
    "        x = self.pool(x)\n",
    "        \n",
    "        x = F.relu(self.conv3(x))\n",
    "        x = self.pool(x)\n",
    "        \n",
    "        x = F.relu(self.conv4(x))\n",
    "        x = self.pool(x)\n",
    "        \n",
    "        x = self.dropout1(x)\n",
    "        \n",
    "        x = x.view(-1, 128 * (IMAGE_SIZE // 16) * (IMAGE_SIZE // 16))  # Flatten the tensor\n",
    "        \n",
    "        x = F.relu(self.fc1(x))\n",
    "        x = self.dropout2(x)\n",
    "        x = F.softmax(self.fc2(x), dim=1)\n",
    "        \n",
    "        return x"
   ]
  },
  {
   "cell_type": "code",
   "execution_count": 9,
   "metadata": {},
   "outputs": [
    {
     "data": {
      "text/plain": [
       "<All keys matched successfully>"
      ]
     },
     "execution_count": 9,
     "metadata": {},
     "output_type": "execute_result"
    }
   ],
   "source": [
    "skinlesnet = SkinLesNet(IMAGE_SIZE)\n",
    "#skinlesnet.load_state_dict(torch.load(\"/Users/alzorrcarri/Library/CloudStorage/Dropbox/tfm/codigo/Redes/skinlesnet/ISIC/skinlesnet_trained.pth\", map_location=device))\n",
    "skinlesnet.load_state_dict(torch.load(r\"D:\\alzor\\Documents\\Dropbox\\tfm\\codigo\\Redes\\skinlesnet\\ISIC\\skinlesnet_trained.pth\", map_location=device))"
   ]
  },
  {
   "cell_type": "markdown",
   "metadata": {},
   "source": [
    "Para el extractor de características eliminamos la última capa de la red, quedándonos con una salida de 64 valores para cada imagen, y copiamos los valores de los parámetros de la red preentrenada."
   ]
  },
  {
   "cell_type": "code",
   "execution_count": 10,
   "metadata": {},
   "outputs": [],
   "source": [
    "class SkinLesNet_featextr(nn.Module):\n",
    "    def __init__(self, IMAGE_SIZE):\n",
    "        super(SkinLesNet_featextr, self).__init__()\n",
    "        # 1st Convolutional Input Layer\n",
    "        self.conv1 = nn.Conv2d(in_channels=3, out_channels=32, kernel_size=3, padding=1)\n",
    "        self.pool = nn.MaxPool2d(kernel_size=2, stride=2)\n",
    "        \n",
    "        # 2nd Convolutional Input Layer\n",
    "        self.conv2 = nn.Conv2d(in_channels=32, out_channels=64, kernel_size=3, padding=1)\n",
    "        \n",
    "        # 3rd Convolutional Layer\n",
    "        self.conv3 = nn.Conv2d(in_channels=64, out_channels=64, kernel_size=3, padding=1)\n",
    "        \n",
    "        # 4th Convolutional Layer\n",
    "        self.conv4 = nn.Conv2d(in_channels=64, out_channels=128, kernel_size=3, padding=1)\n",
    "        \n",
    "        self.dropout1 = nn.Dropout(0.5)\n",
    "    \n",
    "    def forward(self, x):\n",
    "        x = F.relu(self.conv1(x))\n",
    "        x = self.pool(x)\n",
    "        \n",
    "        x = F.relu(self.conv2(x))\n",
    "        x = self.pool(x)\n",
    "        \n",
    "        x = F.relu(self.conv3(x))\n",
    "        x = self.pool(x)\n",
    "        \n",
    "        x = F.relu(self.conv4(x))\n",
    "        x = self.pool(x)\n",
    "        \n",
    "        x = self.dropout1(x)\n",
    "        \n",
    "        x = x.view(-1, 128 * (IMAGE_SIZE // 16) * (IMAGE_SIZE // 16))  # Flatten the tensor\n",
    "        \n",
    "        return x"
   ]
  },
  {
   "cell_type": "code",
   "execution_count": 11,
   "metadata": {},
   "outputs": [
    {
     "data": {
      "text/plain": [
       "SkinLesNet_featextr(\n",
       "  (conv1): Conv2d(3, 32, kernel_size=(3, 3), stride=(1, 1), padding=(1, 1))\n",
       "  (pool): MaxPool2d(kernel_size=2, stride=2, padding=0, dilation=1, ceil_mode=False)\n",
       "  (conv2): Conv2d(32, 64, kernel_size=(3, 3), stride=(1, 1), padding=(1, 1))\n",
       "  (conv3): Conv2d(64, 64, kernel_size=(3, 3), stride=(1, 1), padding=(1, 1))\n",
       "  (conv4): Conv2d(64, 128, kernel_size=(3, 3), stride=(1, 1), padding=(1, 1))\n",
       "  (dropout1): Dropout(p=0.5, inplace=False)\n",
       ")"
      ]
     },
     "execution_count": 11,
     "metadata": {},
     "output_type": "execute_result"
    }
   ],
   "source": [
    "skinlesnet_featextr = SkinLesNet_featextr(IMAGE_SIZE)\n",
    "\n",
    "# Copiamos los pesos del modelo pre-entrenado en el nuevo modelo\n",
    "skinlesnet_featextr.conv1.load_state_dict(skinlesnet.conv1.state_dict())\n",
    "skinlesnet_featextr.conv2.load_state_dict(skinlesnet.conv2.state_dict())\n",
    "skinlesnet_featextr.conv3.load_state_dict(skinlesnet.conv3.state_dict())\n",
    "skinlesnet_featextr.conv4.load_state_dict(skinlesnet.conv4.state_dict())\n",
    "\n",
    "skinlesnet_featextr.to(device)\n",
    "skinlesnet_featextr.eval()"
   ]
  },
  {
   "cell_type": "code",
   "execution_count": null,
   "metadata": {},
   "outputs": [],
   "source": [
    "del skinlesnet"
   ]
  },
  {
   "cell_type": "code",
   "execution_count": 14,
   "metadata": {},
   "outputs": [],
   "source": [
    "torch.cuda.empty_cache()"
   ]
  },
  {
   "cell_type": "code",
   "execution_count": 15,
   "metadata": {},
   "outputs": [],
   "source": [
    "real_features = []\n",
    "with torch.no_grad():\n",
    "    for step, batch in enumerate(train_loader):\n",
    "        real_images = batch.to(device)\n",
    "        real_features.append(skinlesnet_featextr(real_images))\n",
    "\n",
    "real_features = torch.vstack(real_features).to(torch.device(\"cpu\"))"
   ]
  },
  {
   "cell_type": "code",
   "execution_count": 16,
   "metadata": {},
   "outputs": [],
   "source": [
    "synth_features = []\n",
    "with torch.no_grad():\n",
    "    for step, batch in enumerate(syn_loader):\n",
    "        syn_images = batch.to(device)\n",
    "        synth_features.append(skinlesnet_featextr(syn_images))\n",
    "        \n",
    "synth_features = torch.vstack(synth_features).to(torch.device(\"cpu\"))"
   ]
  },
  {
   "cell_type": "code",
   "execution_count": 17,
   "metadata": {},
   "outputs": [
    {
     "data": {
      "text/plain": [
       "(torch.Size([5768, 2048]), torch.Size([500, 2048]))"
      ]
     },
     "execution_count": 17,
     "metadata": {},
     "output_type": "execute_result"
    }
   ],
   "source": [
    "real_features.shape, synth_features.shape"
   ]
  },
  {
   "cell_type": "code",
   "execution_count": 18,
   "metadata": {},
   "outputs": [
    {
     "name": "stdout",
     "output_type": "stream",
     "text": [
      "FID Score: 474.5047\n"
     ]
    }
   ],
   "source": [
    "fid = FIDMetric()\n",
    "fid_res = fid(synth_features, real_features)\n",
    "\n",
    "print(f\"FID Score: {fid_res.item():.4f}\")"
   ]
  },
  {
   "cell_type": "markdown",
   "metadata": {},
   "source": [
    "### Cálculo del FID con ResNet50"
   ]
  },
  {
   "cell_type": "code",
   "execution_count": 8,
   "metadata": {},
   "outputs": [],
   "source": [
    "resnet50_model = models.resnet50(weights=ResNet50_Weights.DEFAULT)"
   ]
  },
  {
   "cell_type": "code",
   "execution_count": 9,
   "metadata": {},
   "outputs": [],
   "source": [
    "class New_ResNet50(nn.Module):\n",
    "    def __init__(self, base_model):\n",
    "        super(New_ResNet50, self).__init__()\n",
    "        # Cargamos el modelo pre-entrenado con los parámetros congelados\n",
    "        # Cambiamos la aquitectura de la capa fully-connected para que tenga 1024 neuronas\n",
    "        self.base_model = base_model\n",
    "        self.base_model.fc = nn.Linear(self.base_model.fc.in_features, 1024)\n",
    "\n",
    "        # Descongelamos los parámetros de la capa fully-connected para que se actualicen durante el entrenamiento\n",
    "        # ya que hemos cambiado su arquitectura\n",
    "        for param in self.base_model.fc.parameters():\n",
    "            param.requires_grad = True\n",
    "\n",
    "        # Añadimos varias capas fully-connected para la clasificación\n",
    "        # https://link.springer.com/article/10.1007/s00521-022-07793-2#Sec14\n",
    "        self.fc1 = nn.Linear(1024, 512)\n",
    "        self.fc2 = nn.Linear(512, 256)\n",
    "        self.fc3 = nn.Linear(256, 128)\n",
    "        self.fc4 = nn.Linear(128, 64)\n",
    "        self.fc5 = nn.Linear(64, 2)\n",
    "        self.dropout = nn.Dropout(0.5)\n",
    "\n",
    "    def forward(self, x):\n",
    "        x = F.relu(self.base_model(x))\n",
    "        x = F.relu(self.fc1(x))\n",
    "        x = F.relu(self.fc2(x))\n",
    "        x = F.relu(self.fc3(x))\n",
    "        x = F.relu(self.fc4(x))\n",
    "        x = self.dropout(x)\n",
    "        x = self.fc5(x)\n",
    "        return F.softmax(x, dim=1)"
   ]
  },
  {
   "cell_type": "code",
   "execution_count": 10,
   "metadata": {},
   "outputs": [
    {
     "data": {
      "text/plain": [
       "<All keys matched successfully>"
      ]
     },
     "execution_count": 10,
     "metadata": {},
     "output_type": "execute_result"
    }
   ],
   "source": [
    "resnet50_model = New_ResNet50(resnet50_model).to(device)\n",
    "resnet50_model.load_state_dict(torch.load(\"/Users/alzorrcarri/Library/CloudStorage/Dropbox/tfm/codigo/Redes/resnet50/ISIC/resnet50_trained.pth\", map_location=device))"
   ]
  },
  {
   "cell_type": "code",
   "execution_count": 11,
   "metadata": {},
   "outputs": [],
   "source": [
    "class New_ResNet50_featextr(nn.Module):\n",
    "    def __init__(self, base_model):\n",
    "        super(New_ResNet50_featextr, self).__init__()\n",
    "        # Cargamos el modelo pre-entrenado con los parámetros congelados\n",
    "        # Cambiamos la aquitectura de la capa fully-connected para que tenga 1024 neuronas\n",
    "        self.base_model = base_model\n",
    "        self.base_model.fc = nn.Linear(self.base_model.fc.in_features, 1024)\n",
    "\n",
    "        # Descongelamos los parámetros de la capa fully-connected para que se actualicen durante el entrenamiento\n",
    "        # ya que hemos cambiado su arquitectura\n",
    "        for param in self.base_model.fc.parameters():\n",
    "            param.requires_grad = True\n",
    "\n",
    "        # Añadimos varias capas fully-connected para la clasificación\n",
    "        # https://link.springer.com/article/10.1007/s00521-022-07793-2#Sec14\n",
    "        self.fc1 = nn.Linear(1024, 512)\n",
    "        self.fc2 = nn.Linear(512, 256)\n",
    "        self.fc3 = nn.Linear(256, 128)\n",
    "        self.fc4 = nn.Linear(128, 64)\n",
    "\n",
    "    def forward(self, x):\n",
    "        x = F.relu(self.base_model(x))\n",
    "        x = F.relu(self.fc1(x))\n",
    "        x = F.relu(self.fc2(x))\n",
    "        x = F.relu(self.fc3(x))\n",
    "        x = F.relu(self.fc4(x))\n",
    "        \n",
    "        return x"
   ]
  },
  {
   "cell_type": "code",
   "execution_count": 12,
   "metadata": {},
   "outputs": [
    {
     "data": {
      "text/plain": [
       "New_ResNet50_featextr(\n",
       "  (base_model): ResNet(\n",
       "    (conv1): Conv2d(3, 64, kernel_size=(7, 7), stride=(2, 2), padding=(3, 3), bias=False)\n",
       "    (bn1): BatchNorm2d(64, eps=1e-05, momentum=0.1, affine=True, track_running_stats=True)\n",
       "    (relu): ReLU(inplace=True)\n",
       "    (maxpool): MaxPool2d(kernel_size=3, stride=2, padding=1, dilation=1, ceil_mode=False)\n",
       "    (layer1): Sequential(\n",
       "      (0): Bottleneck(\n",
       "        (conv1): Conv2d(64, 64, kernel_size=(1, 1), stride=(1, 1), bias=False)\n",
       "        (bn1): BatchNorm2d(64, eps=1e-05, momentum=0.1, affine=True, track_running_stats=True)\n",
       "        (conv2): Conv2d(64, 64, kernel_size=(3, 3), stride=(1, 1), padding=(1, 1), bias=False)\n",
       "        (bn2): BatchNorm2d(64, eps=1e-05, momentum=0.1, affine=True, track_running_stats=True)\n",
       "        (conv3): Conv2d(64, 256, kernel_size=(1, 1), stride=(1, 1), bias=False)\n",
       "        (bn3): BatchNorm2d(256, eps=1e-05, momentum=0.1, affine=True, track_running_stats=True)\n",
       "        (relu): ReLU(inplace=True)\n",
       "        (downsample): Sequential(\n",
       "          (0): Conv2d(64, 256, kernel_size=(1, 1), stride=(1, 1), bias=False)\n",
       "          (1): BatchNorm2d(256, eps=1e-05, momentum=0.1, affine=True, track_running_stats=True)\n",
       "        )\n",
       "      )\n",
       "      (1): Bottleneck(\n",
       "        (conv1): Conv2d(256, 64, kernel_size=(1, 1), stride=(1, 1), bias=False)\n",
       "        (bn1): BatchNorm2d(64, eps=1e-05, momentum=0.1, affine=True, track_running_stats=True)\n",
       "        (conv2): Conv2d(64, 64, kernel_size=(3, 3), stride=(1, 1), padding=(1, 1), bias=False)\n",
       "        (bn2): BatchNorm2d(64, eps=1e-05, momentum=0.1, affine=True, track_running_stats=True)\n",
       "        (conv3): Conv2d(64, 256, kernel_size=(1, 1), stride=(1, 1), bias=False)\n",
       "        (bn3): BatchNorm2d(256, eps=1e-05, momentum=0.1, affine=True, track_running_stats=True)\n",
       "        (relu): ReLU(inplace=True)\n",
       "      )\n",
       "      (2): Bottleneck(\n",
       "        (conv1): Conv2d(256, 64, kernel_size=(1, 1), stride=(1, 1), bias=False)\n",
       "        (bn1): BatchNorm2d(64, eps=1e-05, momentum=0.1, affine=True, track_running_stats=True)\n",
       "        (conv2): Conv2d(64, 64, kernel_size=(3, 3), stride=(1, 1), padding=(1, 1), bias=False)\n",
       "        (bn2): BatchNorm2d(64, eps=1e-05, momentum=0.1, affine=True, track_running_stats=True)\n",
       "        (conv3): Conv2d(64, 256, kernel_size=(1, 1), stride=(1, 1), bias=False)\n",
       "        (bn3): BatchNorm2d(256, eps=1e-05, momentum=0.1, affine=True, track_running_stats=True)\n",
       "        (relu): ReLU(inplace=True)\n",
       "      )\n",
       "    )\n",
       "    (layer2): Sequential(\n",
       "      (0): Bottleneck(\n",
       "        (conv1): Conv2d(256, 128, kernel_size=(1, 1), stride=(1, 1), bias=False)\n",
       "        (bn1): BatchNorm2d(128, eps=1e-05, momentum=0.1, affine=True, track_running_stats=True)\n",
       "        (conv2): Conv2d(128, 128, kernel_size=(3, 3), stride=(2, 2), padding=(1, 1), bias=False)\n",
       "        (bn2): BatchNorm2d(128, eps=1e-05, momentum=0.1, affine=True, track_running_stats=True)\n",
       "        (conv3): Conv2d(128, 512, kernel_size=(1, 1), stride=(1, 1), bias=False)\n",
       "        (bn3): BatchNorm2d(512, eps=1e-05, momentum=0.1, affine=True, track_running_stats=True)\n",
       "        (relu): ReLU(inplace=True)\n",
       "        (downsample): Sequential(\n",
       "          (0): Conv2d(256, 512, kernel_size=(1, 1), stride=(2, 2), bias=False)\n",
       "          (1): BatchNorm2d(512, eps=1e-05, momentum=0.1, affine=True, track_running_stats=True)\n",
       "        )\n",
       "      )\n",
       "      (1): Bottleneck(\n",
       "        (conv1): Conv2d(512, 128, kernel_size=(1, 1), stride=(1, 1), bias=False)\n",
       "        (bn1): BatchNorm2d(128, eps=1e-05, momentum=0.1, affine=True, track_running_stats=True)\n",
       "        (conv2): Conv2d(128, 128, kernel_size=(3, 3), stride=(1, 1), padding=(1, 1), bias=False)\n",
       "        (bn2): BatchNorm2d(128, eps=1e-05, momentum=0.1, affine=True, track_running_stats=True)\n",
       "        (conv3): Conv2d(128, 512, kernel_size=(1, 1), stride=(1, 1), bias=False)\n",
       "        (bn3): BatchNorm2d(512, eps=1e-05, momentum=0.1, affine=True, track_running_stats=True)\n",
       "        (relu): ReLU(inplace=True)\n",
       "      )\n",
       "      (2): Bottleneck(\n",
       "        (conv1): Conv2d(512, 128, kernel_size=(1, 1), stride=(1, 1), bias=False)\n",
       "        (bn1): BatchNorm2d(128, eps=1e-05, momentum=0.1, affine=True, track_running_stats=True)\n",
       "        (conv2): Conv2d(128, 128, kernel_size=(3, 3), stride=(1, 1), padding=(1, 1), bias=False)\n",
       "        (bn2): BatchNorm2d(128, eps=1e-05, momentum=0.1, affine=True, track_running_stats=True)\n",
       "        (conv3): Conv2d(128, 512, kernel_size=(1, 1), stride=(1, 1), bias=False)\n",
       "        (bn3): BatchNorm2d(512, eps=1e-05, momentum=0.1, affine=True, track_running_stats=True)\n",
       "        (relu): ReLU(inplace=True)\n",
       "      )\n",
       "      (3): Bottleneck(\n",
       "        (conv1): Conv2d(512, 128, kernel_size=(1, 1), stride=(1, 1), bias=False)\n",
       "        (bn1): BatchNorm2d(128, eps=1e-05, momentum=0.1, affine=True, track_running_stats=True)\n",
       "        (conv2): Conv2d(128, 128, kernel_size=(3, 3), stride=(1, 1), padding=(1, 1), bias=False)\n",
       "        (bn2): BatchNorm2d(128, eps=1e-05, momentum=0.1, affine=True, track_running_stats=True)\n",
       "        (conv3): Conv2d(128, 512, kernel_size=(1, 1), stride=(1, 1), bias=False)\n",
       "        (bn3): BatchNorm2d(512, eps=1e-05, momentum=0.1, affine=True, track_running_stats=True)\n",
       "        (relu): ReLU(inplace=True)\n",
       "      )\n",
       "    )\n",
       "    (layer3): Sequential(\n",
       "      (0): Bottleneck(\n",
       "        (conv1): Conv2d(512, 256, kernel_size=(1, 1), stride=(1, 1), bias=False)\n",
       "        (bn1): BatchNorm2d(256, eps=1e-05, momentum=0.1, affine=True, track_running_stats=True)\n",
       "        (conv2): Conv2d(256, 256, kernel_size=(3, 3), stride=(2, 2), padding=(1, 1), bias=False)\n",
       "        (bn2): BatchNorm2d(256, eps=1e-05, momentum=0.1, affine=True, track_running_stats=True)\n",
       "        (conv3): Conv2d(256, 1024, kernel_size=(1, 1), stride=(1, 1), bias=False)\n",
       "        (bn3): BatchNorm2d(1024, eps=1e-05, momentum=0.1, affine=True, track_running_stats=True)\n",
       "        (relu): ReLU(inplace=True)\n",
       "        (downsample): Sequential(\n",
       "          (0): Conv2d(512, 1024, kernel_size=(1, 1), stride=(2, 2), bias=False)\n",
       "          (1): BatchNorm2d(1024, eps=1e-05, momentum=0.1, affine=True, track_running_stats=True)\n",
       "        )\n",
       "      )\n",
       "      (1): Bottleneck(\n",
       "        (conv1): Conv2d(1024, 256, kernel_size=(1, 1), stride=(1, 1), bias=False)\n",
       "        (bn1): BatchNorm2d(256, eps=1e-05, momentum=0.1, affine=True, track_running_stats=True)\n",
       "        (conv2): Conv2d(256, 256, kernel_size=(3, 3), stride=(1, 1), padding=(1, 1), bias=False)\n",
       "        (bn2): BatchNorm2d(256, eps=1e-05, momentum=0.1, affine=True, track_running_stats=True)\n",
       "        (conv3): Conv2d(256, 1024, kernel_size=(1, 1), stride=(1, 1), bias=False)\n",
       "        (bn3): BatchNorm2d(1024, eps=1e-05, momentum=0.1, affine=True, track_running_stats=True)\n",
       "        (relu): ReLU(inplace=True)\n",
       "      )\n",
       "      (2): Bottleneck(\n",
       "        (conv1): Conv2d(1024, 256, kernel_size=(1, 1), stride=(1, 1), bias=False)\n",
       "        (bn1): BatchNorm2d(256, eps=1e-05, momentum=0.1, affine=True, track_running_stats=True)\n",
       "        (conv2): Conv2d(256, 256, kernel_size=(3, 3), stride=(1, 1), padding=(1, 1), bias=False)\n",
       "        (bn2): BatchNorm2d(256, eps=1e-05, momentum=0.1, affine=True, track_running_stats=True)\n",
       "        (conv3): Conv2d(256, 1024, kernel_size=(1, 1), stride=(1, 1), bias=False)\n",
       "        (bn3): BatchNorm2d(1024, eps=1e-05, momentum=0.1, affine=True, track_running_stats=True)\n",
       "        (relu): ReLU(inplace=True)\n",
       "      )\n",
       "      (3): Bottleneck(\n",
       "        (conv1): Conv2d(1024, 256, kernel_size=(1, 1), stride=(1, 1), bias=False)\n",
       "        (bn1): BatchNorm2d(256, eps=1e-05, momentum=0.1, affine=True, track_running_stats=True)\n",
       "        (conv2): Conv2d(256, 256, kernel_size=(3, 3), stride=(1, 1), padding=(1, 1), bias=False)\n",
       "        (bn2): BatchNorm2d(256, eps=1e-05, momentum=0.1, affine=True, track_running_stats=True)\n",
       "        (conv3): Conv2d(256, 1024, kernel_size=(1, 1), stride=(1, 1), bias=False)\n",
       "        (bn3): BatchNorm2d(1024, eps=1e-05, momentum=0.1, affine=True, track_running_stats=True)\n",
       "        (relu): ReLU(inplace=True)\n",
       "      )\n",
       "      (4): Bottleneck(\n",
       "        (conv1): Conv2d(1024, 256, kernel_size=(1, 1), stride=(1, 1), bias=False)\n",
       "        (bn1): BatchNorm2d(256, eps=1e-05, momentum=0.1, affine=True, track_running_stats=True)\n",
       "        (conv2): Conv2d(256, 256, kernel_size=(3, 3), stride=(1, 1), padding=(1, 1), bias=False)\n",
       "        (bn2): BatchNorm2d(256, eps=1e-05, momentum=0.1, affine=True, track_running_stats=True)\n",
       "        (conv3): Conv2d(256, 1024, kernel_size=(1, 1), stride=(1, 1), bias=False)\n",
       "        (bn3): BatchNorm2d(1024, eps=1e-05, momentum=0.1, affine=True, track_running_stats=True)\n",
       "        (relu): ReLU(inplace=True)\n",
       "      )\n",
       "      (5): Bottleneck(\n",
       "        (conv1): Conv2d(1024, 256, kernel_size=(1, 1), stride=(1, 1), bias=False)\n",
       "        (bn1): BatchNorm2d(256, eps=1e-05, momentum=0.1, affine=True, track_running_stats=True)\n",
       "        (conv2): Conv2d(256, 256, kernel_size=(3, 3), stride=(1, 1), padding=(1, 1), bias=False)\n",
       "        (bn2): BatchNorm2d(256, eps=1e-05, momentum=0.1, affine=True, track_running_stats=True)\n",
       "        (conv3): Conv2d(256, 1024, kernel_size=(1, 1), stride=(1, 1), bias=False)\n",
       "        (bn3): BatchNorm2d(1024, eps=1e-05, momentum=0.1, affine=True, track_running_stats=True)\n",
       "        (relu): ReLU(inplace=True)\n",
       "      )\n",
       "    )\n",
       "    (layer4): Sequential(\n",
       "      (0): Bottleneck(\n",
       "        (conv1): Conv2d(1024, 512, kernel_size=(1, 1), stride=(1, 1), bias=False)\n",
       "        (bn1): BatchNorm2d(512, eps=1e-05, momentum=0.1, affine=True, track_running_stats=True)\n",
       "        (conv2): Conv2d(512, 512, kernel_size=(3, 3), stride=(2, 2), padding=(1, 1), bias=False)\n",
       "        (bn2): BatchNorm2d(512, eps=1e-05, momentum=0.1, affine=True, track_running_stats=True)\n",
       "        (conv3): Conv2d(512, 2048, kernel_size=(1, 1), stride=(1, 1), bias=False)\n",
       "        (bn3): BatchNorm2d(2048, eps=1e-05, momentum=0.1, affine=True, track_running_stats=True)\n",
       "        (relu): ReLU(inplace=True)\n",
       "        (downsample): Sequential(\n",
       "          (0): Conv2d(1024, 2048, kernel_size=(1, 1), stride=(2, 2), bias=False)\n",
       "          (1): BatchNorm2d(2048, eps=1e-05, momentum=0.1, affine=True, track_running_stats=True)\n",
       "        )\n",
       "      )\n",
       "      (1): Bottleneck(\n",
       "        (conv1): Conv2d(2048, 512, kernel_size=(1, 1), stride=(1, 1), bias=False)\n",
       "        (bn1): BatchNorm2d(512, eps=1e-05, momentum=0.1, affine=True, track_running_stats=True)\n",
       "        (conv2): Conv2d(512, 512, kernel_size=(3, 3), stride=(1, 1), padding=(1, 1), bias=False)\n",
       "        (bn2): BatchNorm2d(512, eps=1e-05, momentum=0.1, affine=True, track_running_stats=True)\n",
       "        (conv3): Conv2d(512, 2048, kernel_size=(1, 1), stride=(1, 1), bias=False)\n",
       "        (bn3): BatchNorm2d(2048, eps=1e-05, momentum=0.1, affine=True, track_running_stats=True)\n",
       "        (relu): ReLU(inplace=True)\n",
       "      )\n",
       "      (2): Bottleneck(\n",
       "        (conv1): Conv2d(2048, 512, kernel_size=(1, 1), stride=(1, 1), bias=False)\n",
       "        (bn1): BatchNorm2d(512, eps=1e-05, momentum=0.1, affine=True, track_running_stats=True)\n",
       "        (conv2): Conv2d(512, 512, kernel_size=(3, 3), stride=(1, 1), padding=(1, 1), bias=False)\n",
       "        (bn2): BatchNorm2d(512, eps=1e-05, momentum=0.1, affine=True, track_running_stats=True)\n",
       "        (conv3): Conv2d(512, 2048, kernel_size=(1, 1), stride=(1, 1), bias=False)\n",
       "        (bn3): BatchNorm2d(2048, eps=1e-05, momentum=0.1, affine=True, track_running_stats=True)\n",
       "        (relu): ReLU(inplace=True)\n",
       "      )\n",
       "    )\n",
       "    (avgpool): AdaptiveAvgPool2d(output_size=(1, 1))\n",
       "    (fc): Linear(in_features=2048, out_features=1024, bias=True)\n",
       "  )\n",
       "  (fc1): Linear(in_features=1024, out_features=512, bias=True)\n",
       "  (fc2): Linear(in_features=512, out_features=256, bias=True)\n",
       "  (fc3): Linear(in_features=256, out_features=128, bias=True)\n",
       "  (fc4): Linear(in_features=128, out_features=64, bias=True)\n",
       ")"
      ]
     },
     "execution_count": 12,
     "metadata": {},
     "output_type": "execute_result"
    }
   ],
   "source": [
    "resnet_featextr = New_ResNet50_featextr(resnet50_model.base_model)\n",
    "\n",
    "# Copiamos los pesos del modelo pre-entrenado en el nuevo modelo\n",
    "resnet_featextr.base_model.load_state_dict(resnet50_model.base_model.state_dict())\n",
    "resnet_featextr.fc1.load_state_dict(resnet50_model.fc1.state_dict())\n",
    "resnet_featextr.fc2.load_state_dict(resnet50_model.fc2.state_dict())\n",
    "resnet_featextr.fc3.load_state_dict(resnet50_model.fc3.state_dict())\n",
    "resnet_featextr.fc4.load_state_dict(resnet50_model.fc4.state_dict())\n",
    "\n",
    "resnet_featextr.to(device)\n",
    "resnet_featextr.eval()"
   ]
  },
  {
   "cell_type": "code",
   "execution_count": 13,
   "metadata": {},
   "outputs": [],
   "source": [
    "del resnet50_model\n",
    "torch.mps.empty_cache()"
   ]
  },
  {
   "cell_type": "code",
   "execution_count": 14,
   "metadata": {},
   "outputs": [],
   "source": [
    "real_features = []\n",
    "with torch.no_grad():\n",
    "    for step, batch in enumerate(train_loader):\n",
    "        real_images = batch.to(device)\n",
    "        output = resnet_featextr(real_images).to(torch.device(\"cpu\"))\n",
    "        real_features.append(output)\n",
    "\n",
    "real_features = torch.vstack(real_features)"
   ]
  },
  {
   "cell_type": "code",
   "execution_count": 15,
   "metadata": {},
   "outputs": [],
   "source": [
    "synth_features = []\n",
    "with torch.no_grad():\n",
    "    for step, batch in enumerate(syn_loader):\n",
    "        syn_images = batch.to(device)\n",
    "        output = resnet_featextr(syn_images).to(torch.device(\"cpu\"))\n",
    "        synth_features.append(output)\n",
    "\n",
    "synth_features = torch.vstack(synth_features)"
   ]
  },
  {
   "cell_type": "code",
   "execution_count": 16,
   "metadata": {},
   "outputs": [
    {
     "name": "stdout",
     "output_type": "stream",
     "text": [
      "FID Score: 0.4878\n"
     ]
    }
   ],
   "source": [
    "fid = FIDMetric()\n",
    "fid_res = fid(synth_features, real_features)\n",
    "\n",
    "print(f\"FID Score: {fid_res.item():.4f}\")"
   ]
  }
 ],
 "metadata": {
  "kernelspec": {
   "display_name": "tfm",
   "language": "python",
   "name": "python3"
  },
  "language_info": {
   "codemirror_mode": {
    "name": "ipython",
    "version": 3
   },
   "file_extension": ".py",
   "mimetype": "text/x-python",
   "name": "python",
   "nbconvert_exporter": "python",
   "pygments_lexer": "ipython3",
   "version": "3.12.3"
  }
 },
 "nbformat": 4,
 "nbformat_minor": 2
}
